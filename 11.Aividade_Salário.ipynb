{
 "cells": [
  {
   "cell_type": "markdown",
   "metadata": {},
   "source": [
    "# Atividade \n",
    "O código a seguir busca indentificar o quanto o usuário recebe"
   ]
  },
  {
   "cell_type": "code",
   "execution_count": 1,
   "metadata": {},
   "outputs": [
    {
     "name": "stdout",
     "output_type": "stream",
     "text": [
      "O salário do colaborador é de: R$ 1444.0\n",
      "O colaborador faltou 2 dias. Sendo 1 vez/vezes na semana.\n",
      "Desconto de INSS é de: R$ 129.96. Entrando na faixa de 9%\n",
      "Não desconta Vale-Transporte. \n",
      "Desconto do Descanso Semanal Remunerado é de R$ 59.73\n",
      "Desconto das faltas R$ 119.46\n",
      "Seu salário bruto é 1444.0 - os descontos de R$: 309.15\n",
      "Seu salario liquido é R$ 1134.85\n",
      "Você recebe por hora R$ 7.47.\n",
      "Você recebe por dia R$ 59.73.\n"
     ]
    }
   ],
   "source": [
    "while True: \n",
    "    # Quantos dias Úteis possuí o mês:\n",
    "    try:\n",
    "        dias_int = int(input('Quantos dias uteis tem o mês? ').strip())\n",
    "        break\n",
    "    except:\n",
    "        print('Digite apenas dias uteis.')\n",
    "        continue\n",
    "\n",
    "while True:     \n",
    "    # Quantas horas o colaborador trabalha por dia:\n",
    "    try:\n",
    "        horas_int = int(input('Quantas horas você trabalha por dia? ').strip())\n",
    "        break\n",
    "    except:\n",
    "        print('Digite suas horas de trabalho por dia.')\n",
    "        continue\n",
    "    \n",
    "while True:\n",
    "    # Qual o salário do colaborador:\n",
    "    try:\n",
    "        salario_float = float(input('Qual o salário bruto do colaborador? ').strip())\n",
    "        print(f'O salário do colaborador é de: R$ {salario_float}')\n",
    "        break\n",
    "    except:\n",
    "        print('Digite seu salário.')\n",
    "        continue\n",
    "\n",
    "while True:\n",
    "    # O colaborador faltou algum dia:\n",
    "    try:\n",
    "        faltas_int = int(input('Quantas vezes o colaborador faltou ao serviço? ').strip())\n",
    "        try:\n",
    "            descanso_semanal_remunerado = int(input('Quantas semanas o colaborador faltou? ').strip())\n",
    "            print(f'O colaborador faltou {faltas_int} dias. Sendo {descanso_semanal_remunerado} vez/vezes na semana.')\n",
    "        except:\n",
    "            print('Digite o número de faltas na semana do colaborador.')\n",
    "            continue\n",
    "        break\n",
    "    except:\n",
    "        print('Digite o número de faltas do colaborador.')\n",
    "        continue   \n",
    "\n",
    "# Faixa de desconto de INSS:\n",
    "if salario_float <= 1412:\n",
    "    desconto_inss = 7.5\n",
    "elif salario_float <= 2666.68:\n",
    "    desconto_inss = 9\n",
    "elif salario_float <= 4000.03:\n",
    "    desconto_inss = 12\n",
    "elif salario_float <= 7786.02:\n",
    "    desconto_inss = 14\n",
    "inss = ((desconto_inss / 100) * (salario_float)) # Desconto de 9% de vale transporte\n",
    "print(f'Desconto de INSS é de: R$ {inss:.2f}. Entrando na faixa de {desconto_inss}%')\n",
    "\n",
    "# Desconto de Vale-Transporte deve ser aplicado?\n",
    "vale_transporte = input('Descontar Vale-Transporte? s/n').lower().strip().startswith('s')\n",
    "if vale_transporte:\n",
    "    vale_transporte = ((6 / 100) * (salario_float)) # Desconto de 6% de vale transporte\n",
    "    print(f'Desconto de Vale-Transporte R$: {vale_transporte:.2f}')\n",
    "    salario_liquido = salario_float - (inss + vale_transporte)\n",
    "else:\n",
    "    print('Não desconta Vale-Transporte. ')\n",
    "    salario_liquido = salario_float - (inss)\n",
    "\n",
    "# Cálculo: \n",
    "horas_mes = dias_int * horas_int  \n",
    "por_hora = salario_liquido / horas_mes\n",
    "por_dia = por_hora * horas_int\n",
    "descanso_semanal_remunerado = descanso_semanal_remunerado * por_dia\n",
    "print(f'Desconto do Descanso Semanal Remunerado é de R$ {descanso_semanal_remunerado:.2f}')\n",
    "faltou = (faltas_int * por_dia)\n",
    "print(f'Desconto das faltas R$ {faltou:.2f}')\n",
    "faltou = (faltas_int * por_dia) + descanso_semanal_remunerado\n",
    "\n",
    "salario_liquido = salario_liquido - faltou\n",
    "print(f'Seu salário bruto é {salario_float} - os descontos de R$: {faltou + vale_transporte + inss:.2f}')\n",
    "print(f'Seu salario liquido é R$ {salario_liquido:.2f}')\n",
    "print(f'Você recebe por hora R$ {por_hora:.2f}.')\n",
    "print(f'Você recebe por dia R$ {por_dia:.2f}.')"
   ]
  }
 ],
 "metadata": {
  "kernelspec": {
   "display_name": "base",
   "language": "python",
   "name": "python3"
  },
  "language_info": {
   "codemirror_mode": {
    "name": "ipython",
    "version": 3
   },
   "file_extension": ".py",
   "mimetype": "text/x-python",
   "name": "python",
   "nbconvert_exporter": "python",
   "pygments_lexer": "ipython3",
   "version": "3.11.7"
  }
 },
 "nbformat": 4,
 "nbformat_minor": 2
}
