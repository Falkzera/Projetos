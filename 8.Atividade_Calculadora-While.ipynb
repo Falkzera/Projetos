{
 "cells": [
  {
   "cell_type": "markdown",
   "metadata": {},
   "source": [
    "Criando uma cálculadora com While.\n",
    "A calculadora só realizará essas operações: + - * /"
   ]
  },
  {
   "cell_type": "code",
   "execution_count": 3,
   "metadata": {},
   "outputs": [
    {
     "name": "stdout",
     "output_type": "stream",
     "text": [
      "Seja bem vindo a cálculadora do Falk, as operações permitidas são apenas: (+) (-) (*) (/).\n",
      "Boas contas!\n",
      "O resultado é: 0.0\n",
      "O resultado é: 0.0\n"
     ]
    }
   ],
   "source": [
    "tutorial = ('Seja bem vindo a cálculadora do Falk, as operações permitidas são apenas: (+) (-) (*) (/).\\n'\n",
    "'Boas contas!')\n",
    "print(tutorial)\n",
    "\n",
    "condition = input('Quer iniciar o programa ?')\n",
    "\n",
    "\n",
    "while True:\n",
    "\n",
    "    number_1 = input('Digite um número: ').strip()\n",
    "    number_2 = input('Digite outro número: ').strip()\n",
    "    operator = input('Escolha um operador: (+) (-) (*) (/) ').strip()\n",
    "\n",
    "    try:\n",
    "        number_1 = float(number_1)\n",
    "        number_2 = float(number_2)\n",
    "    except:\n",
    "        print(f'Número inválido. ')\n",
    "        continue\n",
    " \n",
    "    if operator == '+':\n",
    "        result = (number_1 + number_2)\n",
    "        print(f'O resultado é: {result}')\n",
    "    elif operator == '-':\n",
    "        result = (number_1 - number_2)\n",
    "        print(f'O resultado é: {result}')\n",
    "    elif operator == '*':\n",
    "        result = (number_1 * number_2)\n",
    "        print(f'O resultado é: {result}')\n",
    "    elif operator == '/':\n",
    "        result = (number_1 / number_2)\n",
    "        print(f'O resultado é: {result}')\n",
    "    else:\n",
    "        print('Operador inválido')\n",
    "\n",
    "    home = input('Go to home? y/n').lower().startswith('y')\n",
    "    if home is True:\n",
    "        break\n"
   ]
  }
 ],
 "metadata": {
  "kernelspec": {
   "display_name": "base",
   "language": "python",
   "name": "python3"
  },
  "language_info": {
   "codemirror_mode": {
    "name": "ipython",
    "version": 3
   },
   "file_extension": ".py",
   "mimetype": "text/x-python",
   "name": "python",
   "nbconvert_exporter": "python",
   "pygments_lexer": "ipython3",
   "version": "3.11.7"
  }
 },
 "nbformat": 4,
 "nbformat_minor": 2
}
