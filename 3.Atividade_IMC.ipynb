{
 "cells": [
  {
   "cell_type": "markdown",
   "metadata": {},
   "source": [
    "Perguntando ao usuário suas informações"
   ]
  },
  {
   "cell_type": "code",
   "execution_count": 1,
   "metadata": {},
   "outputs": [],
   "source": [
    "name = input('Qual o seu nome?:')\n",
    "age = input('Qual a sua idade?:')\n",
    "height = input('Qual a sua altura?:')\n",
    "weight = input('Qual o seu peso?:')"
   ]
  },
  {
   "cell_type": "markdown",
   "metadata": {},
   "source": [
    "Definindo o cálculo do IMC: *altura / (peso * peso)* ou simplesmente: *altura / (peso ** 2)*"
   ]
  },
  {
   "cell_type": "code",
   "execution_count": 2,
   "metadata": {},
   "outputs": [],
   "source": [
    "imc = float(weight) / (float(height) ** 2)"
   ]
  },
  {
   "cell_type": "markdown",
   "metadata": {},
   "source": [
    "Definindo as condições do resultado do *IMC*."
   ]
  },
  {
   "cell_type": "code",
   "execution_count": 3,
   "metadata": {},
   "outputs": [],
   "source": [
    "if imc < 18.5:\n",
    "    condition = 'Abaixo do peso'\n",
    "elif imc >= 18.5 and imc < 24.9:\n",
    "    condition = 'Ideal'\n",
    "elif imc >= 25 and imc < 29.9:\n",
    "    condition = 'Sobrepeso'\n",
    "elif imc >= 30 and imc < 34.9:\n",
    "    condition = 'Obesidade Grau I'\n",
    "elif imc >= 35 and imc < 39.9:\n",
    "    condition = 'Obesidade Grau II'\n",
    "else:\n",
    "    condition = 'Obesidade Grau III'"
   ]
  },
  {
   "cell_type": "markdown",
   "metadata": {},
   "source": [
    "Reportando ao usuário seu resultado do cálculo do *IMC*"
   ]
  },
  {
   "cell_type": "code",
   "execution_count": 4,
   "metadata": {},
   "outputs": [
    {
     "name": "stdout",
     "output_type": "stream",
     "text": [
      "Olá Duda de acordo com suas informações: seu peso é 52 quilos.\n",
      "Sua altura é de 1.54 metros.\n",
      "Portando seu IMC é de: 21.93 e isso indica que você está na condição Ideal!\n"
     ]
    }
   ],
   "source": [
    "resultado = (\n",
    "    f'Olá {name} de acordo com suas informações: seu peso é {weight} quilos.\\n'\n",
    "    f'Sua altura é de {height} metros.\\n'\n",
    "    f'Portando seu IMC é de: {imc:.2f} e isso indica que você está na condição {condition}!'\n",
    ")\n",
    "print(resultado)"
   ]
  }
 ],
 "metadata": {
  "kernelspec": {
   "display_name": "base",
   "language": "python",
   "name": "python3"
  },
  "language_info": {
   "codemirror_mode": {
    "name": "ipython",
    "version": 3
   },
   "file_extension": ".py",
   "mimetype": "text/x-python",
   "name": "python",
   "nbconvert_exporter": "python",
   "pygments_lexer": "ipython3",
   "version": "3.11.7"
  }
 },
 "nbformat": 4,
 "nbformat_minor": 2
}
