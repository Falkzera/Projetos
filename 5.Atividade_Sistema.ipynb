{
 "cells": [
  {
   "cell_type": "markdown",
   "metadata": {},
   "source": [
    "# Atividade\n",
    "Criação de um mini sistema com requsisitos de Idade."
   ]
  },
  {
   "cell_type": "code",
   "execution_count": 79,
   "metadata": {},
   "outputs": [],
   "source": [
    "name = input('Digite seu nome: ')\n",
    "age = input(f'{name} digite sua Idade: ').strip()"
   ]
  },
  {
   "cell_type": "code",
   "execution_count": 80,
   "metadata": {},
   "outputs": [],
   "source": [
    "if age >= '0' and age <= '9':\n",
    "    age = int(age)\n",
    "    if age >= 18:\n",
    "        resume = f'Parabéns {name} você entrou no sistema.'\n",
    "    elif age <= 18:\n",
    "        resume = f'Desculpe {name} mas você não tem a idade minima para entrar no sistema.'\n",
    "else:\n",
    "    resume = 'Desculpe mas você não digitou uma idade valida.'"
   ]
  },
  {
   "cell_type": "code",
   "execution_count": 81,
   "metadata": {},
   "outputs": [
    {
     "name": "stdout",
     "output_type": "stream",
     "text": [
      "Parabéns Falcão você entrou no sistema.\n"
     ]
    }
   ],
   "source": [
    "print(resume)"
   ]
  }
 ],
 "metadata": {
  "kernelspec": {
   "display_name": "base",
   "language": "python",
   "name": "python3"
  },
  "language_info": {
   "codemirror_mode": {
    "name": "ipython",
    "version": 3
   },
   "file_extension": ".py",
   "mimetype": "text/x-python",
   "name": "python",
   "nbconvert_exporter": "python",
   "pygments_lexer": "ipython3",
   "version": "3.11.7"
  }
 },
 "nbformat": 4,
 "nbformat_minor": 2
}
