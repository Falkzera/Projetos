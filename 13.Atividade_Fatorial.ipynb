{
 "cells": [
  {
   "cell_type": "code",
   "execution_count": 5,
   "metadata": {},
   "outputs": [
    {
     "name": "stdout",
     "output_type": "stream",
     "text": [
      "O fatorial de 5 é 120\n"
     ]
    }
   ],
   "source": [
    "\n",
    "try:\n",
    "    number = int(input('Digite um número: ').strip())\n",
    "    if number < 0:\n",
    "        print('Digite apenas números positivos.')\n",
    "        \n",
    "except:\n",
    "    print('Você não digitou um número.')\n",
    "\n",
    "fatorial = 1\n",
    "conta = 1\n",
    "\n",
    "while number >= fatorial:\n",
    "    conta *= fatorial\n",
    "   \n",
    "    fatorial += 1\n",
    "print(f'O fatorial de {number} é {conta}')\n"
   ]
  }
 ],
 "metadata": {
  "kernelspec": {
   "display_name": "base",
   "language": "python",
   "name": "python3"
  },
  "language_info": {
   "codemirror_mode": {
    "name": "ipython",
    "version": 3
   },
   "file_extension": ".py",
   "mimetype": "text/x-python",
   "name": "python",
   "nbconvert_exporter": "python",
   "pygments_lexer": "ipython3",
   "version": "3.11.7"
  }
 },
 "nbformat": 4,
 "nbformat_minor": 2
}
