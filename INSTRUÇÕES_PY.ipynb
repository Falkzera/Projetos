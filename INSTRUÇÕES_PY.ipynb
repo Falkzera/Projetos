{
 "cells": [
  {
   "cell_type": "markdown",
   "metadata": {},
   "source": [
    "# PYTHON"
   ]
  },
  {
   "cell_type": "markdown",
   "metadata": {},
   "source": [
    "# Estrutura Condicional em Python.\n",
    "\n",
    "### **if ...:**\n",
    "Esta é a primeira condição que é verificada. Se essa condição for verdadeira (True), o bloco de código indentado logo abaixo dela será executado. Se for falsa (False), o programa passará para a próxima condição (elif) ou para o bloco (else), se não houver elif.  \n",
    "Tradução: \"Se (uma condição específica for verdadeira), então faça o seguinte...\"\n",
    "\n",
    "### **elif ...:**\n",
    "elif é uma abreviação de \"else if\". É usado para verificar uma condição adicional se a condição no if anterior for falsa. Pode haver vários blocos elif após um if, e eles são verificados em ordem. Se uma condição elif for verdadeira, o bloco de código correspondente será executado, e o programa não verificará mais condições elif ou o bloco else subsequente.  \n",
    "Tradução: \"Senão, se (outra condição específica for verdadeira), então faça o seguinte...\"\n",
    "\n",
    "### **else:**\n",
    "O bloco else é executado se nenhuma das condições anteriores (if ou elif) for verdadeira. É como uma última opção, quando todas as outras condições específicas falharam.  \n",
    "Tradução: \"Senão (nenhuma das condições anteriores for verdadeira), então faça o seguinte...\""
   ]
  },
  {
   "cell_type": "code",
   "execution_count": 1,
   "metadata": {},
   "outputs": [
    {
     "name": "stdout",
     "output_type": "stream",
     "text": [
      "Adulto\n"
     ]
    }
   ],
   "source": [
    "'''\n",
    "Exemplo de utilização:\n",
    "Imagine que você está escrevendo um programa para classificar a faixa etária de uma pessoa com base em sua idade:\n",
    "'''\n",
    "\n",
    "idade = 18\n",
    "\n",
    "if idade < 13:\n",
    "    print(\"Criança\")\n",
    "elif idade < 18:\n",
    "    print(\"Adolescente\")\n",
    "else:\n",
    "    print(\"Adulto\")"
   ]
  },
  {
   "cell_type": "markdown",
   "metadata": {},
   "source": [
    "# Tratamento de exceções em Python\n",
    "\n",
    "### **try:**\n",
    "O bloco try é onde você coloca o código que pode potencialmente causar um erro durante a execução. Python tentará executar esse código normalmente.\n",
    "Tradução: \"Tente executar o seguinte código...\"\n",
    "\n",
    "### **except:**\n",
    "\n",
    "O bloco except é executado se um erro ocorrer dentro do bloco try. Aqui, você pode colocar o código que define o que deve ser feito caso um erro seja encontrado, como registrar o erro, tentar uma solução alternativa, ou simplesmente informar o usuário sobre o problema. É possível especificar tipos específicos de exceções para capturar diferentes tipos de erros de forma mais granular.\n",
    "Tradução: \"Se um erro ocorrer, então faça o seguinte...\"\n"
   ]
  },
  {
   "cell_type": "code",
   "execution_count": 1,
   "metadata": {},
   "outputs": [],
   "source": [
    "'''\n",
    "Tradução para uma lógica em português:\n",
    "\n",
    "\"Tente executar o seguinte código: ler dois números do usuário, dividir o primeiro pelo segundo e imprimir o resultado.\"\n",
    "\"Se um erro de divisão por zero ocorrer, então informe ao usuário que não é possível dividir por zero.\"\n",
    "'''\n",
    "\n",
    "try:\n",
    "    numerador = float(input(\"Digite o numerador: \"))\n",
    "    denominador = float(input(\"Digite o denominador: \"))\n",
    "    resultado = numerador / denominador\n",
    "    print(f\"Resultado: {resultado}\")\n",
    "except ZeroDivisionError:\n",
    "    print(\"Erro: Não é possível dividir por zero.\")"
   ]
  },
  {
   "cell_type": "markdown",
   "metadata": {},
   "source": [
    "# Estrutura de Looping (infinita)\n",
    "\n",
    "### **while ...:**\n",
    "O while executa o bloco de código indentado sob ele enquanto a condição especificada após o while for verdadeira. A condição é verificada antes de cada iteração do loop.\n",
    "Tradução: \"Enquanto (uma condição específica for verdadeira), faça o seguinte...\"\n",
    "\n",
    "\n",
    "## **break**\n",
    "O break é usado dentro de um loop para sair imediatamente dele, independentemente da condição do while. Normalmente, o break é colocado dentro de uma estrutura condicional (if) dentro do loop, para que o loop seja interrompido sob uma condição específica, além da condição principal do while.\n",
    "Tradução: \"Interrompa o loop imediatamente.\"\n",
    "\n",
    "## **continue**\n",
    "\n",
    "O continue é colocado dentro de uma estrutura condicional (if) dentro do loop. Quando a condição especificada no if é verdadeira, o continue é executado. Isso faz com que o loop ignore o restante do código que vem após o continue na iteração atual e vá diretamente para a próxima iteração do loop, onde a condição do loop é avaliada novamente."
   ]
  },
  {
   "cell_type": "code",
   "execution_count": null,
   "metadata": {},
   "outputs": [],
   "source": [
    "'''\n",
    "\"Enquanto o número for menor que 10, faça o seguinte: \n",
    "aumente o número em 1. Se o número for igual a 5, pule para a próxima iteração do loop sem imprimir o número. \n",
    "Se o número for igual a 8, encerre o loop.\n",
    "Para todos os outros números, imprima o número.\"\n",
    "'''\n",
    "\n",
    "numero = 0\n",
    "while numero < 10:\n",
    "    numero += 1\n",
    "    if numero == 5:\n",
    "        continue\n",
    "    elif numero == 8:\n",
    "        break\n",
    "    print(numero)"
   ]
  },
  {
   "cell_type": "markdown",
   "metadata": {},
   "source": [
    "# Estrutura de Looping (finita)\n",
    "\n",
    "Explicação Passo a Passo:\n",
    "Definição da String: A variável texto é definida com o valor 'Python', que é uma string.\n",
    "Loop for: A estrutura de loop for é usada para iterar sobre cada caractere na string texto.\n",
    "Iteração: A palavra-chave in permite que o loop passe por cada caractere na string texto.\n",
    "Execução do Bloco de Código: Para cada iteração, o caractere atual (referenciado pela variável letra) é impresso na tela.\n",
    "Repetição: Este processo se repete automaticamente para cada caractere na string texto, começando do primeiro caractere até o último.\n",
    "\n",
    "\n",
    "\n",
    "Explicação Passo a Passo:\n",
    "Criação da Sequência de Números: A função range(0, 100, 8) cria uma sequência de números que começa em 0 e vai até, mas não inclui, 100, incrementando-se de 8 em 8. Isso significa que a sequência contém os números 0, 8, 16, 24, ..., 96.\n",
    "Loop for: A estrutura de loop for é usada para iterar sobre cada número na sequência criada pela função range.\n",
    "Iteração: A palavra-chave in permite que o loop passe por cada número na sequência numeros.\n",
    "Execução do Bloco de Código: Para cada iteração, o número atual (referenciado pela variável numero) é impresso na tela.\n",
    "Repetição: Este processo se repete automaticamente para cada número na sequência numeros, começando do primeiro número até o último número da sequência."
   ]
  },
  {
   "cell_type": "code",
   "execution_count": 7,
   "metadata": {},
   "outputs": [
    {
     "name": "stdout",
     "output_type": "stream",
     "text": [
      ".\n",
      ".\n",
      ".\n",
      "0\n",
      "8\n"
     ]
    }
   ],
   "source": [
    "texto = '...'\n",
    "for letra in texto:\n",
    "    print(letra)\n",
    "\n",
    "\n",
    "numeros = range(0, 16, 8)\n",
    "\n",
    "for numero in numeros:\n",
    "    print(numero)"
   ]
  },
  {
   "cell_type": "markdown",
   "metadata": {},
   "source": [
    "# Lopping com For, in, if, continue, break e else"
   ]
  },
  {
   "cell_type": "code",
   "execution_count": 8,
   "metadata": {},
   "outputs": [
    {
     "name": "stdout",
     "output_type": "stream",
     "text": [
      "0 1\n",
      "0 2\n",
      "1 1\n",
      "1 2\n",
      "i é 2, pulando...\n",
      "3 1\n",
      "3 2\n",
      "4 1\n",
      "4 2\n",
      "5 1\n",
      "5 2\n",
      "6 1\n",
      "6 2\n",
      "7 1\n",
      "7 2\n",
      "i é 8, seu else não executará\n",
      "0 1\n",
      "0 2\n",
      "1 1\n",
      "1 2\n",
      "i é 2, pulando...\n",
      "3 1\n",
      "3 2\n",
      "4 1\n",
      "4 2\n",
      "5 1\n",
      "5 2\n",
      "6 1\n",
      "6 2\n",
      "7 1\n",
      "7 2\n",
      "i é 8, seu else não executará\n"
     ]
    }
   ],
   "source": [
    "# Exemplo com for\n",
    "\n",
    "for i in range(10):\n",
    "    if i == 2:\n",
    "        print('i é 2, pulando...')\n",
    "        continue\n",
    "\n",
    "    if i == 8:\n",
    "        print('i é 8, seu else não executará')\n",
    "        break\n",
    "\n",
    "    for j in range(1, 3):\n",
    "        print(i, j)\n",
    "else:\n",
    "    print('For completo com sucesso!')\n",
    "\n",
    "\n",
    "# Exemplo com while\n",
    "\n",
    "i = 0\n",
    "while i < 10:\n",
    "    if i == 2:\n",
    "        print('i é 2, pulando...')\n",
    "        i += 1\n",
    "        continue\n",
    "\n",
    "    if i == 8:\n",
    "        print('i é 8, seu else não executará')\n",
    "        break\n",
    "\n",
    "    j = 1\n",
    "    while j < 3:\n",
    "        print(i, j)\n",
    "        j += 1\n",
    "\n",
    "    i += 1\n",
    "else:\n",
    "    print('For completo com sucesso!')\n"
   ]
  },
  {
   "cell_type": "markdown",
   "metadata": {},
   "source": [
    "# Instruções GIT\n",
    "\n",
    "Remove-Item -Recurse -Force .git # Remove o GIT\n",
    "cd MeuProjeto  e  git init # Adiciona o GIT\n",
    "\n"
   ]
  },
  {
   "cell_type": "markdown",
   "metadata": {},
   "source": [
    "# Listas, tipo multável, syntaxe ()\n",
    "Suporta vários valores de qualquer tipo\n",
    "### **Métodos úteis:** \n",
    "##### aapend, insert, pop, del, clear, extend"
   ]
  },
  {
   "cell_type": "code",
   "execution_count": 1,
   "metadata": {},
   "outputs": [
    {
     "name": "stdout",
     "output_type": "stream",
     "text": [
      "['Lucas', 'Falcão']\n",
      "['Lucas', 'Lucas', 'Falcão', 'Petiano']\n",
      "['Lucas', 'Falcão', 'Petiano']\n",
      "['Campeão', 'Falcão', 'Petiano']\n",
      "['Campeão', 'Petiano']\n"
     ]
    }
   ],
   "source": [
    "lista = list()  # Transformo algo em uma lista.\n",
    "lista_1 = ['Lucas', 'Falcão'] # Crio uma lista diretamente.\n",
    "print(lista_1)\n",
    "\n",
    "lista_1.insert(0, 'Lucas') # Insere mais um dado, é necessário passar dois argumentos, o primerios é o indice a onde será inserido.\n",
    "\n",
    "lista_1.append('Petiano') # Adiciona ao final\n",
    "print(lista_1)\n",
    "\n",
    "del lista_1[0] # Exclui de acordo com o indice\n",
    "print(lista_1)\n",
    "\n",
    "lista_1[0] = 'Campeão' # Altera o nome de acordo com o indice\n",
    "print(lista_1)\n",
    "\n",
    "lista_1.pop(1) # Remove o último indice\n",
    "print(lista_1)"
   ]
  },
  {
   "cell_type": "markdown",
   "metadata": {},
   "source": [
    "# 04"
   ]
  },
  {
   "cell_type": "markdown",
   "metadata": {},
   "source": [
    "# FUNÇÕES (def)\n",
    "As funções são trechos de códigos usados para replicar determinada ação ao longo do código.  \n",
    "Recebem parâmetros e os parâmetros recebem argumentos.  \n",
    "Por padrão, funções Python retornam 'None'"
   ]
  },
  {
   "cell_type": "code",
   "execution_count": 1,
   "metadata": {},
   "outputs": [
    {
     "name": "stdout",
     "output_type": "stream",
     "text": [
      "Várias\n",
      "Várias\n"
     ]
    }
   ],
   "source": [
    "# Exemplo\n",
    "def Print(): # Isso é uma função \n",
    "    print('Várias') # Isso é o que a função executará\n",
    "\n",
    "Print() # Estou chamando a função.\n",
    "Print() # A função vai executar o que tiver dentro dela.\n"
   ]
  },
  {
   "cell_type": "code",
   "execution_count": 2,
   "metadata": {},
   "outputs": [
    {
     "name": "stdout",
     "output_type": "stream",
     "text": [
      "Várias\n"
     ]
    }
   ],
   "source": [
    "# Exemplo\n",
    "def imprimir(a, b, c): # Parâmetros: 'a, b, c' | Os parâmetros das funções podem ser interpretados como variáveis.\n",
    "    print('Várias')\n",
    "\n",
    "imprimir(1, 2, 3) # Argumentos/Valores dos parâmetros."
   ]
  },
  {
   "cell_type": "code",
   "execution_count": 14,
   "metadata": {},
   "outputs": [
    {
     "name": "stdout",
     "output_type": "stream",
     "text": [
      "1 2 3\n",
      "4 5 6\n"
     ]
    }
   ],
   "source": [
    "# Exemplo\n",
    "def imprimir(a, b, c): # Parâmetros: 'a, b, c' | Os parâmetros das funções podem ser interpretados como variáveis.\n",
    "    print(a, b, c) \n",
    "\n",
    "imprimir(1, 2, 3) # Argumentos/Valores dos parâmetros.\n",
    "imprimir(4, 5, 6) # Cada vez que a função for chamada, os argumentos podem ser modificados.\n"
   ]
  },
  {
   "cell_type": "code",
   "execution_count": 3,
   "metadata": {},
   "outputs": [
    {
     "name": "stdout",
     "output_type": "stream",
     "text": [
      "Olá, Lucas Falcão\n"
     ]
    }
   ],
   "source": [
    "# Exemplo saudação\n",
    "def saudacao(nome): # Criando uma função com um parâmetro.\n",
    "    print(f'Olá, {nome}') # A função executará essa linha de código, retornando o argumento do parâmetro | ou a variavel do argumento.\n",
    "\n",
    "saudacao('Lucas Falcão') # Ao chamar a função saudacao, adicionei o argumento 'Lucas Falcão'"
   ]
  },
  {
   "cell_type": "code",
   "execution_count": 4,
   "metadata": {},
   "outputs": [
    {
     "name": "stdout",
     "output_type": "stream",
     "text": [
      "Olá, Lucas\n",
      "Olá, Sem nome\n"
     ]
    }
   ],
   "source": [
    "# Exemplo saudação\n",
    "def saudacao(nome='Sem nome'): # Caso não seja passado um argumento para esse parâmetro, ele retornará a string 'Sem nome'\n",
    "    print(f'Olá, {nome}') # A função executará essa linha de código, retornando o argumento do parâmetro | ou a variavel do argumento.\n",
    "\n",
    "\n",
    "saudacao('Lucas') # Com argumentos.\n",
    "saudacao() # Ao chamar a função, não foi passado nenhum argumento para o parâmetro da função.\n",
    "# Isso pode ocosionar um erro, porém nessa função, foi adicionado um valor pré estabelecido no parâmetro"
   ]
  },
  {
   "cell_type": "markdown",
   "metadata": {},
   "source": [
    "### Argumento nomeado e não nomeado em funções Python\n",
    "Argumento nomeado tem nome com sinal de igual  \n",
    "Argumento não nomeado recebe apenas o argumento (valor)"
   ]
  },
  {
   "cell_type": "code",
   "execution_count": 5,
   "metadata": {},
   "outputs": [
    {
     "name": "stdout",
     "output_type": "stream",
     "text": [
      "Lucas Falcão\n",
      "3\n",
      "12\n"
     ]
    }
   ],
   "source": [
    "# Exemplo\n",
    "def soma(x, y): # Criando uma função chamado de 'soma' e adicionando dois parâmetros | variáveis \n",
    "    print(x + y) # Definição da função. Ao chamar a função, ela executará esse comando.\n",
    "\n",
    "soma('Lucas', ' Falcão') # Argumentos posicionais passados, Lucas representa X e Falcão representa Y. Ocorrendo uma concatenação de str.\n",
    "soma(1, 2) # Argumentos posicionais da mesma forma, por serem inteiros, retorna uma soma.\n",
    "soma('1', '2') # Por serem str retornam uma concatenação\n",
    "\n"
   ]
  },
  {
   "cell_type": "code",
   "execution_count": 6,
   "metadata": {},
   "outputs": [
    {
     "name": "stdout",
     "output_type": "stream",
     "text": [
      "x='Lucas' y=' Falcão'|x+y = Lucas Falcão\n",
      "x=1 y=2|x+y = 3\n",
      "x='1' y='2'|x+y = 12\n"
     ]
    }
   ],
   "source": [
    "# Exemplo formatando print e entendo\n",
    "def soma(x, y): # Criando uma função chamado de 'soma' e adicionando dois parâmetros | variáveis \n",
    "    print(f'{x=} {y=}' '|''x+y =', x+y) # Definição da função. Ao chamar a função, ela executará esse comando.\n",
    "\n",
    "soma('Lucas', ' Falcão') # Argumentos posicionais passados, Lucas representa X e Falcão representa Y. Ocorrendo uma concatenação de str.\n",
    "soma(1, 2) # Argumentos posicionais da mesma forma, por serem inteiros, retorna uma soma.\n",
    "soma('1', '2') # Por serem str retornam uma concatenação\n",
    "\n",
    "# A ordem importa, se o parâmetro foi estabelecido como (x, y)\n",
    "# Siginifica que o primeiro valor passado para o argumento irá representar o X, e o segundo irá representar o Y\n",
    "\n",
    "# Importante destacar que, dessa forma, a quantidade de argumentos deve ser exatamente igual a quantidade de parâmetros estabelecido. "
   ]
  },
  {
   "cell_type": "code",
   "execution_count": 7,
   "metadata": {},
   "outputs": [
    {
     "name": "stdout",
     "output_type": "stream",
     "text": [
      "6\n",
      "15\n",
      "24\n",
      "33\n"
     ]
    }
   ],
   "source": [
    "# Exemplo\n",
    "def soma(x, y, z): # Definindo os parâmetros, nesse caso são três.\n",
    "    print(x + y + z) # O que a função executa.\n",
    "\n",
    "soma(1, 2, z=3) # O que foi chamado. O terceiro argumento para o terceiro parametro foi nomeado.\n",
    "# A partir do primeiro parâmetro nomeado, todos os próximos obrigadotiramente devem ser nomeados também\n",
    "    # Exemplo>\n",
    " \n",
    "soma(x=4, y=5, z= 6) # Como o primeiro parâmetro foi nomeado, todos os outros obrigatoriamente deve ser também.\n",
    "soma(7, y=8, z=9) # Como o segundo parâmetro foi nomeado, todos os outros também serão.\n",
    "\n",
    "# Geralmente se faz ou tudo nomeado, ou tudo não nomeado.\n",
    "# Caso queira passar fora de ordem, como o z primeiro depois o y e por ultimo o x, deve ser passado de maneira nomeada\n",
    "soma(z=10, y=11, x=12)"
   ]
  },
  {
   "cell_type": "markdown",
   "metadata": {},
   "source": [
    "### Valores padrão para parâmetros\n",
    "Ao definir uma função, os parâmetros podem ter valores padrão.  \n",
    "Caso o valor não seja enviado para o parâmetro, o valor padrão será usado."
   ]
  },
  {
   "cell_type": "code",
   "execution_count": 8,
   "metadata": {},
   "outputs": [
    {
     "name": "stdout",
     "output_type": "stream",
     "text": [
      "3\n",
      "7\n"
     ]
    },
    {
     "data": {
      "text/plain": [
       "'\\nsoma(1, 2, 3) # Adicionando mais um argumento, porém a função inicial só aceita dois parâmetros, isso quebrará o código.\\n'"
      ]
     },
     "execution_count": 8,
     "metadata": {},
     "output_type": "execute_result"
    }
   ],
   "source": [
    "# Um dos objetivos de utilizar as funções, é que podemos cria-las em 'qualquer' local do código\n",
    "# E posteriormente chama-lá.\n",
    "\n",
    "def soma(x, y):\n",
    "    print(x + y)\n",
    "\n",
    "soma(1, 2)\n",
    "soma(3, 4)\n",
    "\n",
    "# Caso seja necessário fazer alguma alteração futura na função criada anteriormente, precisaremos: Refatorar.\n",
    "# Então por exemplo, caso futuramente por quaisquer motivos, quisessimos adicionar mais um parâmetro (ou varios)\n",
    "# Ou então, mais um argumento em algum momento especifico.\n",
    "# Caso isso seja feito como dessa forma:\n",
    "'''\n",
    "soma(1, 2, 3) # Adicionando mais um argumento, porém a função inicial só aceita dois parâmetros, isso quebrará o código.\n",
    "'''"
   ]
  },
  {
   "cell_type": "code",
   "execution_count": 9,
   "metadata": {},
   "outputs": [
    {
     "name": "stdout",
     "output_type": "stream",
     "text": [
      "x=1 y=2 |x+y = 3\n",
      "x=1 y=2 z=3 |x+y+z = 6\n"
     ]
    }
   ],
   "source": [
    "# Em python é muito comum ser definido variaveis/argumentos possuíndo um 'não valor'\n",
    "\n",
    "def soma(x, y, z=None): # Definindo o parâmetro 'z' possuíndo um 'Não valor'.\n",
    "    if z is not None: # Então, se z Não for None, ou seja, se Z representar algum valor, mostre isso:\n",
    "        print(f'{x=} {y=} {z=}', '|' 'x+y+z =', x + y + z) # Mostrando com o Z\n",
    "    else: # Caso contrário, mostre isso:  Ou seja, caso Z seja de fato um Não valor, mostre isso:\n",
    "        print(f'{x=} {y=}','|' 'x+y =', x + y) # Ocultando o Z, por ser de fato um não valor.\n",
    "\n",
    "\n",
    "soma(1, 2) # Definindo apenas dois argumentos para os parâmetros\n",
    "soma(1, 2, 3) # Definindo três argumentos para os parâmetros."
   ]
  },
  {
   "cell_type": "code",
   "execution_count": 10,
   "metadata": {},
   "outputs": [
    {
     "name": "stdout",
     "output_type": "stream",
     "text": [
      "0\n",
      "4\n"
     ]
    }
   ],
   "source": [
    "# Para valores nomeados, consigo envia-lós nos argumentos com a ordem que eu preferir.\n",
    "# Para valores não nomeados, a ordem é sempre a ordem estabelecida nos parâmetros.\n",
    "\n",
    "def soma(a, b, c): # Criando uma função e passando três parâmetros para ela\n",
    "    calculo = (a + b - c) # Escopo do que a minha função fará\n",
    "    print(calculo)\n",
    "\n",
    "soma(1, 2, 3) # Passando os argumentos não nomeados, então seguirá a ordem estabelecida na função. a = 1, b = 2, c = 3\n",
    "soma(c=1, a=2, b=3) # Passando argumentos nomeados, c = 1, a = 2, b = 3."
   ]
  },
  {
   "cell_type": "code",
   "execution_count": 11,
   "metadata": {},
   "outputs": [
    {
     "name": "stdout",
     "output_type": "stream",
     "text": [
      "3\n"
     ]
    }
   ],
   "source": [
    "# Parãmetro com valor padrão\n",
    "def soma(a, b, c=0, d=0): # Ao passar um parãmetro com o valor padrão, após ele, todos os outros deverá ter valores padrões também.\n",
    "    print(a+b+c)\n",
    "soma(1, 2)"
   ]
  },
  {
   "cell_type": "markdown",
   "metadata": {},
   "source": [
    "### Escopo de função em Python\n",
    "Isso significa o limite em que a função pode atingir  \n",
    "Há tipos de escopo: Local e Global/ Interno e Externo  \n",
    "Escopo Local é o escopo onde nomes do mesmo local pode ser alcançado\n",
    "Escopo global é onde todo código alcança  \n",
    "Em suma: O que acontece dentro da função, fica dentro da função (nem sempre)"
   ]
  },
  {
   "cell_type": "code",
   "execution_count": 12,
   "metadata": {},
   "outputs": [
    {
     "name": "stdout",
     "output_type": "stream",
     "text": [
      "1\n"
     ]
    }
   ],
   "source": [
    "# Exemplo\n",
    "def escopo(): # Dentro da função, é chamado de escopo local.\n",
    "    x = 1 # Essa varíavel está definida dentro do escopo da função \n",
    "    print(x)  \n",
    "'''\n",
    "print(x) Caso tente executar a variavel X, o Python irá retornar que a variavel\n",
    "não está definida. \n",
    "Pois, ela está definida apenas dentro da função escopo.\n",
    "'''\n",
    "escopo()"
   ]
  },
  {
   "cell_type": "code",
   "execution_count": 13,
   "metadata": {},
   "outputs": [
    {
     "name": "stdout",
     "output_type": "stream",
     "text": [
      "1\n"
     ]
    }
   ],
   "source": [
    "# Escopo de fora para dentro sim\n",
    "# De dentro para fora, não.\n",
    "x = 1 # Essa variavel está no escopo Global.\n",
    "\n",
    "def escopo(): # Definindo a função // Escopo Local.\n",
    "    print(x)  # Imprimindo na tela x, e nesse caso, x está definido no escopo Global.\n",
    "# Acessando o escopo global para pegar o valor do argumento.\n",
    "\n",
    "escopo() # Execução do escopo, retornando o x que está definido fora do escopo.\n"
   ]
  },
  {
   "cell_type": "code",
   "execution_count": 17,
   "metadata": {},
   "outputs": [
    {
     "name": "stdout",
     "output_type": "stream",
     "text": [
      "1 2\n",
      "1\n"
     ]
    }
   ],
   "source": [
    "# O escopo acessível é os de fora, não os de dentro.\n",
    "# Só consegue acessar o que está fora.\n",
    "    # exemplo\n",
    "x = 1 # Essa variavel está no Escopo Global.\n",
    "\n",
    "def escopo(): # Escopo Local, consegue acessar X = 1, mas não Y = 2\n",
    "    def outra_funcao(): # Escopo interno ao local, consegue acessar Y e X\n",
    "        y = 2\n",
    "        print(x, y)\n",
    "    outra_funcao()\n",
    "    print(x) # Se fosse print(x, y). -> Retornaria um erro, pois Y está definido dentro do escopo interno de 'outra_funcao'.\n",
    "    # Ou seja, a função escopo, só consegue acessar o valor x que está fora. E não o valor Y que está dentro de outra função.\n",
    "\n",
    "# Já a função outra_função consegue acessar tanto y que foi definido dentro dela, quanto X que foi definido fora.\n",
    "# Quem ta dentro acessa quem ta fora. Mas quem ta fora não acessa quem ta dentro.\n",
    "\n",
    "escopo()\n",
    "\n",
    "# Eu posso acesar variaveis do escopo acima.\n",
    "# Não consigo acessar variaveis dos escopos internos."
   ]
  },
  {
   "cell_type": "code",
   "execution_count": 19,
   "metadata": {},
   "outputs": [
    {
     "name": "stdout",
     "output_type": "stream",
     "text": [
      "1\n",
      "10 2\n",
      "10\n",
      "1\n"
     ]
    }
   ],
   "source": [
    "# Mais um exemplo\n",
    "\n",
    "x = 1 # Variavel x definida no escopo GLOBAL.\n",
    "\n",
    "def escopo(): # Criação de função\n",
    "    x = 10 # Que torna o valor de X = 10 nesse escopo interno.\n",
    "    def outro_escopo(): # Uma função dentro de outra\n",
    "        y = 2 # Define uma variavel no escopo interno interno\n",
    "        print(x, y) # Imprime o valor de X e de Y // Pega a variavel mais próxima do escopo, nesse caso é X = 10.\n",
    "    outro_escopo() # Executa o outro escopo\n",
    "    print(x) # Printa X novamente\n",
    "\n",
    "print(x) # Imprime X do escopo Global, já que foi definido. // Aqui eu não consigo acessar nem y, e nem o x = 10. Apenas o X = 1\n",
    "escopo() # Executa a função, retornando o valor X = 10 e y = 2\n",
    "print(x) # Imprime X mais uma vez do escopo global.\n",
    "\n",
    "# O escopo de fora, afeta o interno, mas o interno não afeta o de fora.\n",
    "# Ele pula de dentro para fora. E não de fora para dentro.\n",
    "\n",
    "# O python define um local na memória para o escopo global, que na verdade é chamado de modulo, que é o arquivo em execução.\n",
    "# Ao definir uma função e executar ela, o Python cria um novo local na memória, chamado de escopo.\n",
    "# E a cada função nova que for definida e chamada, é um local novo na memoria, como se fosse um novo mundo.\n",
    "# E o mundo interno, consegue acessar o mundo externo mais próximo."
   ]
  },
  {
   "cell_type": "code",
   "execution_count": 23,
   "metadata": {},
   "outputs": [
    {
     "name": "stdout",
     "output_type": "stream",
     "text": [
      "1\n",
      "2\n",
      "3\n",
      "4\n"
     ]
    }
   ],
   "source": [
    "# Exemplo do mundo interno acessando o mundo externo mais próximo.\n",
    "\n",
    "x = 1 # Esse é o escopo do modulo, o local mais distante / o mundo mais distante.\n",
    "\n",
    "def mundo_1():\n",
    "    x=2\n",
    "    print(x)\n",
    "    def mundo_2():\n",
    "        x=3\n",
    "        print(x)\n",
    "        def mundo_3():\n",
    "            x=4\n",
    "            print(x)\n",
    "        mundo_3()\n",
    "    mundo_2()\n",
    "print(x)\n",
    "mundo_1()\n"
   ]
  },
  {
   "cell_type": "markdown",
   "metadata": {},
   "source": [
    "### RETURN de função\n",
    "Retornando o valor da função"
   ]
  },
  {
   "cell_type": "code",
   "execution_count": 26,
   "metadata": {},
   "outputs": [
    {
     "name": "stdout",
     "output_type": "stream",
     "text": [
      "Lucas\n"
     ]
    }
   ],
   "source": [
    "nome = print('Lucas') # A variavel 'nome', retorna o print. \n",
    "# Porém a primeira vista, é estranho, pois a variavel 'nome' deveria guardar a informação e só executar quando for chamada."
   ]
  },
  {
   "cell_type": "code",
   "execution_count": 28,
   "metadata": {},
   "outputs": [
    {
     "name": "stdout",
     "output_type": "stream",
     "text": [
      "Lucas\n",
      "None\n"
     ]
    }
   ],
   "source": [
    "nome = print('Lucas')\n",
    "print(nome) # Ao imprimir a variavel, ela mostra o valor dela, que nesse caso é 'None'.\n",
    "# Ou seja, a variavel possuí um 'Não valor'."
   ]
  },
  {
   "cell_type": "code",
   "execution_count": 30,
   "metadata": {},
   "outputs": [
    {
     "name": "stdout",
     "output_type": "stream",
     "text": [
      "Lucas\n",
      "True\n"
     ]
    }
   ],
   "source": [
    "nome = print('Lucas')\n",
    "print(nome is None) # Verificando se a variavel realmente é none.\n",
    "\n",
    "# Isso ocorre porque print, é uma função criada pelos desenvolvedores\n",
    "# Com o objetivo de jogae coisas para a saída do sistema.\n",
    "# Então print, foi feito para mostrar algo na tela.\n",
    "# Logo, print é uma função que exibe algum valor.\n",
    "# Logo a função print, não possuí nenhum valor.\n",
    "\n",
    "# Então quando a variavel guarda apenas a função print. O valor da variavel é um 'não valor'."
   ]
  },
  {
   "cell_type": "code",
   "execution_count": 34,
   "metadata": {},
   "outputs": [
    {
     "name": "stdout",
     "output_type": "stream",
     "text": [
      "Lucas\n",
      "None\n",
      "Lucas\n"
     ]
    }
   ],
   "source": [
    "# Diferentemente de:\n",
    "\n",
    "nome = 'Lucas' # 'nome' aqui tem valor, o valor da variavel 'nome' é uma str 'Lucas'\n",
    "nome_1 = print(f'{nome}') # Aqui, a variavel 'nome_1' não possuí valor, apenas executa a função print.\n",
    "\n",
    "print(nome_1)\n",
    "print(nome)"
   ]
  },
  {
   "cell_type": "code",
   "execution_count": 72,
   "metadata": {},
   "outputs": [
    {
     "name": "stdout",
     "output_type": "stream",
     "text": [
      "5\n",
      "9\n",
      "Type Error\n"
     ]
    }
   ],
   "source": [
    "# Exemplo de retorno 'None' em função\n",
    "\n",
    "def soma(x, y): # Criando uma função, chamada de 'soma', e passando dois parâmetros: 'x' e 'y'\n",
    "    print(x + y) # O que a função executará.\n",
    "    \n",
    "\n",
    "soma_1 = soma(2, 3) # Criando uma variavel chamado de 'soma_1' e chamando a função 'soma', passando dois argumentos, '2' e '3'.\n",
    "soma_2 = soma(4, 5) # Mesma coisa\n",
    "\n",
    "try: # Adicionei um try, para evitar o erro grande em baixo do code.\n",
    "    soma_3 = soma_1 + soma_2\n",
    "    print(soma_3) # Não será executado, pois gera um erro.\n",
    "except:\n",
    "    print('Type Error')\n",
    "\n",
    "# Criar a variavel 'soma_3' e definilá como sendo o somátorio de 'soma_1' + 'soma_2'.\n",
    "# Isso retorna um erro, pois como visto anteriormente, a função 'print' apenas executa e imprime na tela. Ela não guarda o valor.\n",
    "# Nesse caso, o valor da variavel 'soma_1' e o valor da variavel 'soma_2' é um 'Não valor', é 'None Type.\n",
    "# E é impossível somar um 'não valor' com outro 'não valor'. \n",
    "# Resultando no erro> TypeError."
   ]
  },
  {
   "cell_type": "code",
   "execution_count": 68,
   "metadata": {},
   "outputs": [
    {
     "name": "stdout",
     "output_type": "stream",
     "text": [
      "3\n",
      "7\n",
      "10\n"
     ]
    }
   ],
   "source": [
    "# Nesse caso, para o código acima funcionar perfeitamente, deve ser utilizado o return\n",
    "\n",
    "def soma(x, y): # Definindo a função soma, e pssando dois parâmetros para ela.\n",
    "    print(x + y) # Imprimindo na tela o resultado dos argumentos passados para os parâmetros.\n",
    "    return x + y # Retornando de fato os valores do restulado, podendo ser guardado em alguma variavel.\n",
    "\n",
    "soma_1 = soma(1, 2)  \n",
    "soma_2 = soma(3, 4)\n",
    "soma_3 = soma_1 + soma_2\n",
    "print(soma_3)"
   ]
  },
  {
   "cell_type": "code",
   "execution_count": 71,
   "metadata": {},
   "outputs": [
    {
     "name": "stdout",
     "output_type": "stream",
     "text": [
      "5\n",
      "9\n",
      "14\n"
     ]
    }
   ],
   "source": [
    "# No caso, para evitar o Type error, deve ser adicionado o return da função.\n",
    "\n",
    "\n",
    "def soma(x, y): # Criando uma função, chamada de 'soma', e passando dois parâmetros: 'x' e 'y'\n",
    "    print(x + y) # O que a função executará.\n",
    "    return x + y\n",
    "    \n",
    "\n",
    "soma_1 = soma(2, 3) # Criando uma variavel chamado de 'soma_1' e chamando a função 'soma', passando dois argumentos, '2' e '3'.\n",
    "soma_2 = soma(4, 5) # Mesma coisa\n",
    "\n",
    "try: # Adicionei um try, para evitar o erro grande em baixo do code.\n",
    "    soma_3 = soma_1 + soma_2\n",
    "    print(soma_3)\n",
    "except:\n",
    "    print('Type Error')\n",
    "\n",
    "# Criar a variavel 'soma_3' e definilá como sendo o somátorio de 'soma_1' + 'soma_2'.\n",
    "# Isso retorna um erro, pois como visto anteriormente, a função 'print' apenas executa e imprime na tela. Ela não guarda o valor.\n",
    "# Nesse caso, o valor da variavel 'soma_1' e o valor da variavel 'soma_2' é um 'Não valor', é 'None Type.\n",
    "# E é impossível somar um 'não valor' com outro 'não valor'. \n",
    "# Resultando no erro> TypeError."
   ]
  },
  {
   "cell_type": "code",
   "execution_count": 81,
   "metadata": {},
   "outputs": [],
   "source": [
    "# Após o uso de Return, não é possível adicionar mais nada no escopo dessa função\n",
    "\n",
    "def soma(a, b):\n",
    "    return (a + b) # Após o uso de 'return', o execução dentro da função é parada e retorna algo.\n",
    "    print(a + b) # O código aqui que está dentro da função, será inalcansável 'unreachable'.\n",
    "\n",
    "valor = soma(1, 2)\n",
    "# Logo, o print não é executado, nada é exibido na tela. Porém a variavel 'valor', guarda dentro dela o resultado da função\n",
    "# Que nesse caso é o somátorio de 1 + 2 "
   ]
  },
  {
   "cell_type": "markdown",
   "metadata": {},
   "source": [
    "### Utilizando *args \n",
    "*args é uma convenção, que realiza um empacotamento e desempacotamento  \n",
    "*args é uma convenção que signifca - Argumentos não nomeados."
   ]
  },
  {
   "cell_type": "code",
   "execution_count": 91,
   "metadata": {},
   "outputs": [
    {
     "name": "stdout",
     "output_type": "stream",
     "text": [
      "1 2 3 4 5\n"
     ]
    }
   ],
   "source": [
    "# Comm *args, não limito a quantidade de parâmetros ou argumentos\n",
    "\n",
    "def soma(*args): # Deixo ilimitado todos, podendo ser quantos argumentos e parâmetros quiser\n",
    "    print(*args) # Imprime na tela o resultado da função, ou seja, todos os argumentos passados para a função.\n",
    "                # Nesse caso, como o parâmetro é '*args', então ele empacota todos os argumentos.\n",
    "                # Esse print, exebirá uma tupla.\n",
    "                # Para desempacotar a tupla, é necessário utilizar *args na função print, para ver os argumentos desempacotados.\n",
    "\n",
    "soma(1, 2, 3, 4, 5)"
   ]
  },
  {
   "cell_type": "code",
   "execution_count": 106,
   "metadata": {},
   "outputs": [
    {
     "data": {
      "text/plain": [
       "13"
      ]
     },
     "execution_count": 106,
     "metadata": {},
     "output_type": "execute_result"
    }
   ],
   "source": [
    "# Fazendo uma mini calculadora com Def e for\n",
    "\n",
    "def soma(*args): # Defino minha função de nome 'soma' e passo para ela um parâmetro não nomeado, que vai empacotar todas os argumentos\n",
    "    total = 0 # Crio uma variavel para guardar o valor\n",
    "    for numero in (args): # Faço um for dentro de args, ou seja, vou interar sobre todos os argumentos passados para a função.\n",
    "        total += numero # Vou somar um argumento com o outro.\n",
    "    return total # Vou retornar a variavel 'total', que nesse caso, guardou todos os numeros somados dos argumentos\n",
    "\n",
    "\n",
    "soma(1, 2, 10) # Executando minha função, e passando os parametros.\n"
   ]
  },
  {
   "cell_type": "code",
   "execution_count": 137,
   "metadata": {},
   "outputs": [
    {
     "data": {
      "text/plain": [
       "27"
      ]
     },
     "execution_count": 137,
     "metadata": {},
     "output_type": "execute_result"
    }
   ],
   "source": [
    "# Podemos utilizar o method 'sum' que é nativo do python. Nesse caso serie\n",
    "\n",
    "def soma(*args): # Definindo minha função e passando o parâmetro *args, ou seja, realizando um empacotamento de todas os argumentos passados para a função\n",
    "    return sum(args) # Retorna o somátorio de todos os argumentos passados em args\n",
    "\n",
    "soma(1, 2, 3, 4, 5, 6, 6)"
   ]
  },
  {
   "cell_type": "code",
   "execution_count": 147,
   "metadata": {},
   "outputs": [
    {
     "name": "stdout",
     "output_type": "stream",
     "text": [
      "128\n"
     ]
    }
   ],
   "source": [
    "def soma(*args):\n",
    "    return sum(args)\n",
    "\n",
    "numeros = 1, 2, 3, 4, 5, 6, 7, 100\n",
    "\n",
    "somatorio = soma(*numeros) # Para funcionar é necessário desempacotar, utilizando '*'\n",
    "print(somatorio) # \n",
    "\n",
    "# soma(sum(numeros))"
   ]
  },
  {
   "cell_type": "markdown",
   "metadata": {},
   "source": [
    "### High Order Functions\n",
    "Funções que podem receber e/ou retornar outras funções."
   ]
  },
  {
   "cell_type": "code",
   "execution_count": 2,
   "metadata": {},
   "outputs": [
    {
     "name": "stdout",
     "output_type": "stream",
     "text": [
      "Olá!\n",
      "Função filho chamada!\n"
     ]
    }
   ],
   "source": [
    "# Exemplo de High Order Function\n",
    "\n",
    "# Função que recebe outra função como parâmetro\n",
    "def saudacao(func):\n",
    "    # Chama a função passada como argumento\n",
    "    func()\n",
    "\n",
    "# Função simples que será passada como argumento\n",
    "def diz_ola():\n",
    "    print(\"Olá!\")\n",
    "\n",
    "# Passando a função 'diz_ola' como argumento para a função 'saudacao'\n",
    "saudacao(diz_ola)\n",
    "\n",
    "# Função que retorna outra função\n",
    "def pai():\n",
    "    # Função interna\n",
    "    def filho():\n",
    "        return \"Função filho chamada!\"\n",
    "    # Retorna a função 'filho' sem executá-la\n",
    "    return filho\n",
    "\n",
    "# Chamando a função 'pai' e armazenando a função retornada\n",
    "funcao_filho = pai()\n",
    "\n",
    "# Chamando a função retornada\n",
    "print(funcao_filho())"
   ]
  },
  {
   "cell_type": "markdown",
   "metadata": {},
   "source": [
    "#### First-Class Functions \n",
    "Funções que são tratadas como outros tipos de dados comuns (strings, inteiros, etc...)"
   ]
  },
  {
   "cell_type": "code",
   "execution_count": 3,
   "metadata": {},
   "outputs": [
    {
     "name": "stdout",
     "output_type": "stream",
     "text": [
      "25\n",
      "9\n",
      "100\n"
     ]
    }
   ],
   "source": [
    "# Exemplo de First-Class Functions\n",
    "\n",
    "# Definindo uma função simples\n",
    "def quadrado(x):\n",
    "    return x * x\n",
    "\n",
    "# Atribuindo a função a uma variável\n",
    "funcao_var = quadrado\n",
    "\n",
    "# Passando a função como argumento para outra função\n",
    "def aplicar_funcao(func, valor):\n",
    "    return func(valor)\n",
    "\n",
    "# Armazenando funções em uma lista\n",
    "lista_de_funcoes = [quadrado, abs, round]\n",
    "\n",
    "# Exemplo de uso\n",
    "print(funcao_var(5))  # Usando a função através de uma variável\n",
    "print(aplicar_funcao(quadrado, 3))  # Passando a função como argumento\n",
    "print(lista_de_funcoes[0](10))  # Chamando a função a partir de uma lista"
   ]
  },
  {
   "cell_type": "markdown",
   "metadata": {},
   "source": [
    "#### Clousure \n",
    "Uma closure é uma função que \"lembra\" do ambiente em que foi criada, ou seja, das variáveis e do contexto local da função externa onde foi definida."
   ]
  },
  {
   "cell_type": "code",
   "execution_count": 4,
   "metadata": {},
   "outputs": [
    {
     "name": "stdout",
     "output_type": "stream",
     "text": [
      "Boa tarde, Lucas Falcão\n"
     ]
    }
   ],
   "source": [
    "def criar_saudacao(saudacao, nome):\n",
    "    def saudar():\n",
    "        return f'{saudacao}, {nome}'\n",
    "    return saudar()\n",
    "\n",
    "saudar = criar_saudacao('Boa tarde', 'Lucas Falcão')\n",
    "\n",
    "print(saudar)"
   ]
  },
  {
   "cell_type": "markdown",
   "metadata": {},
   "source": [
    "# Dicionários (tipo dict) , multável, syntaxe {}\n",
    "Contituídos por par de Chave e Valor.\n",
    "\n"
   ]
  },
  {
   "cell_type": "code",
   "execution_count": null,
   "metadata": {},
   "outputs": [],
   "source": []
  },
  {
   "cell_type": "markdown",
   "metadata": {},
   "source": [
    "# Sets\n",
    "Sets em Python são mutáveis, porém aceitam apenas tipos imutáveis como valor iterno.\n",
    "Se assemlham com os Dict, por usarem a syntax '{}', mas não possuí par de chave-valor."
   ]
  },
  {
   "cell_type": "code",
   "execution_count": 1,
   "metadata": {},
   "outputs": [
    {
     "name": "stdout",
     "output_type": "stream",
     "text": [
      "set() <class 'set'>\n"
     ]
    }
   ],
   "source": [
    "teste = set()\n",
    "print(teste, type(teste))"
   ]
  },
  {
   "cell_type": "code",
   "execution_count": 92,
   "metadata": {},
   "outputs": [
    {
     "name": "stdout",
     "output_type": "stream",
     "text": [
      "{'a', 'L', 'c', 'u', 's'}\n"
     ]
    }
   ],
   "source": [
    "# Ele intera sobre o valor passado, porém não garante sua ordem.\n",
    "teste_1 = set('Lucas')\n",
    "print(teste_1)"
   ]
  },
  {
   "cell_type": "code",
   "execution_count": 15,
   "metadata": {},
   "outputs": [
    {
     "name": "stdout",
     "output_type": "stream",
     "text": [
      "{1, 2, 3, 'Lucas'}\n"
     ]
    }
   ],
   "source": [
    "# Fazendo de forma direta, aplicando de forma direta:\n",
    "# Estrutura de dado Set.\n",
    "teste_3 = {'Lucas', 1, 2, 3}\n",
    "print(teste_3)"
   ]
  },
  {
   "cell_type": "code",
   "execution_count": 17,
   "metadata": {},
   "outputs": [],
   "source": [
    "teste_4 = set() # Set vazio\n",
    "teste_5 = {'Lucas', 1, 2, 3} # Com dados"
   ]
  },
  {
   "cell_type": "markdown",
   "metadata": {},
   "source": [
    "#### Sets são muito eficientes parar emover valores duplicados de interáveis\n",
    "Seus valores são sempre únicos e não aceitam valores multáveis;  \n",
    "Não possuem índexes;  \n",
    "Não Garantem ordem; \n",
    "São interáveis (for, in, not in).\n"
   ]
  },
  {
   "cell_type": "code",
   "execution_count": 18,
   "metadata": {},
   "outputs": [
    {
     "name": "stdout",
     "output_type": "stream",
     "text": [
      "{1, 2, 3}\n"
     ]
    }
   ],
   "source": [
    "teste_6 = {1, 2, 3, 3, 3, 3, 1}\n",
    "print(teste_6) # Sets removem valore duplicados de interáveis."
   ]
  },
  {
   "cell_type": "code",
   "execution_count": 35,
   "metadata": {},
   "outputs": [
    {
     "name": "stdout",
     "output_type": "stream",
     "text": [
      "[1, 2, 3, 4, 5, 6]\n"
     ]
    }
   ],
   "source": [
    "# Removendo duplicates de lista - EXEMPLO\n",
    "    # forma longa   \n",
    "lista_1 = [1, 2, 2, 3, 3, 3, 4, 4, 4, 1, 2, 5, 6] # Lista com diversos valores duplicados.\n",
    "lista_1 = set(lista_1) # Convertendo em set, para remover essas duplicatas.\n",
    "lista_2 = list(lista_1) # Reconvertendo novamente em lista, porém, agora sem os valores duplicado.\n",
    "    # único possível problema é que TALVEZ a conversão para set, não garanta a ordem dos dados.\n",
    "print(lista_2)"
   ]
  },
  {
   "cell_type": "code",
   "execution_count": null,
   "metadata": {},
   "outputs": [],
   "source": [
    "# Removendo duplicates de lista - EXEMPLO\n",
    "    # forma curta \n",
    "lista_1 = [1, 2, 2, 3, 3, 3, 4, 4, 4, 1, 2, 5, 6] # Lista com diversos valores duplicados.\n",
    "lista_1 = set(lista_1) # Convertendo em set, para remover essas duplicatas.\n",
    "lista_2 = list(lista_1) # Reconvertendo novamente em lista, porém, agora sem os valores duplicado.\n",
    "print(lista_2)"
   ]
  },
  {
   "cell_type": "markdown",
   "metadata": {},
   "source": [
    "### Métodos úteis para sets:\n",
    "add,  \n",
    "update,  \n",
    "clear,  \n",
    "discard,  \n"
   ]
  },
  {
   "cell_type": "code",
   "execution_count": 94,
   "metadata": {},
   "outputs": [
    {
     "name": "stdout",
     "output_type": "stream",
     "text": [
      "{'Lucas', 'Falcão', 15}\n"
     ]
    }
   ],
   "source": [
    "# add()\n",
    "    # Adicionando valores ao set\n",
    "teste_6 = set() # Set vazio\n",
    "teste_6.add('Lucas') # Adicionado 'Lucas' no set\n",
    "teste_6.add('Falcão') # Adicionado 'Falcão' no set\n",
    "teste_6.add(15) # Adicionado 15 no set\n",
    "print(teste_6)"
   ]
  },
  {
   "cell_type": "code",
   "execution_count": 102,
   "metadata": {},
   "outputs": [
    {
     "name": "stdout",
     "output_type": "stream",
     "text": [
      "{('Lucas', 'Matheus')}\n"
     ]
    }
   ],
   "source": [
    "# add()\n",
    "    # Para adicionar mais de um valor, é necessário adicionar um interavel em si\n",
    "teste_7 = set()\n",
    "teste_7.add(('Lucas', 'Matheus')) # Adicionando dois valores de uma só vez com um interavel em si\n",
    "print(teste_7)"
   ]
  },
  {
   "cell_type": "code",
   "execution_count": 104,
   "metadata": {},
   "outputs": [
    {
     "name": "stdout",
     "output_type": "stream",
     "text": [
      "{'a', 'L', 'c', 'u', 's'}\n"
     ]
    }
   ],
   "source": [
    "# update()\n",
    "    # O update funciona um pouco parecido com o 'add'. Porém ele intera o valor que foi passado.\n",
    "teste_8 = set() # Set vazio\n",
    "teste_8.update('Lucas') # Adicionando 'Lucas' com o método update, retornará letra por letra\n",
    "print(teste_8)"
   ]
  },
  {
   "cell_type": "code",
   "execution_count": 105,
   "metadata": {},
   "outputs": [
    {
     "name": "stdout",
     "output_type": "stream",
     "text": [
      "{1, 2, 3, 'Lucas', 4, 5}\n"
     ]
    }
   ],
   "source": [
    "# update()\n",
    "    # Para adicionar sem ser letra por letra, é necessário mandar um interável e dentro do interável os valores.\n",
    "teste_9 = set() # Set vazio\n",
    "teste_9.update(('Lucas', 1, 2, 3, 4, 5)) # Adicionando 'Lucas' com o método update, retornará letra por letra\n",
    "print(teste_9)"
   ]
  },
  {
   "cell_type": "code",
   "execution_count": 106,
   "metadata": {},
   "outputs": [
    {
     "name": "stdout",
     "output_type": "stream",
     "text": [
      "set()\n"
     ]
    }
   ],
   "source": [
    "# clear()\n",
    "    # O clear limpa o set\n",
    "teste_10 = {1, 2, 3, 4, 'Lucas'} # Um set com valores\n",
    "teste_10.clear() # Método clear para limpar o set\n",
    "print(teste_10) # Print do set vazio"
   ]
  },
  {
   "cell_type": "code",
   "execution_count": 108,
   "metadata": {},
   "outputs": [
    {
     "name": "stdout",
     "output_type": "stream",
     "text": [
      "{1, 2, 3, 4, 5}\n"
     ]
    }
   ],
   "source": [
    "# discard\n",
    "    # Descarta / Remove um valor de dentro do set / \n",
    "    # Para remover um valor é só digitar o nome do proprio valor, já que set não tem índice\n",
    "teste_11 = {'Lucas', 1, 2, 3, 4, 5} # set com valores\n",
    "teste_11.discard('Lucas') # Removendo 'Lucas' de dentro do set\n",
    "print(teste_11)"
   ]
  },
  {
   "cell_type": "markdown",
   "metadata": {},
   "source": [
    "### Operadores úteis:\n",
    "união | união (union) Une  \n",
    "intersecção & (intersection) Itens presente em ambos  \n",
    "diferença - Itens presentes apenas no set da esquerda  \n",
    "diferença símetrica ^ Itens que não estão em ambos"
   ]
  },
  {
   "cell_type": "code",
   "execution_count": 111,
   "metadata": {},
   "outputs": [
    {
     "name": "stdout",
     "output_type": "stream",
     "text": [
      "{1, 2, 3, 4}\n"
     ]
    }
   ],
   "source": [
    "# União: |\n",
    "    # Realiza a união entre os sets, descartando seus valores repetidos.\n",
    "teste_12 = {1, 2, 3} # Perceca que o número 2 e 3 estão presentens em ambos os Sets.\n",
    "teste_13 = {2, 3, 4} # Os números 1 e 4 são os únicos que estão em sets separados.\n",
    "teste_14 = teste_12 | teste_13 # Realizando a uinião dos Sets.\n",
    "print(teste_14)"
   ]
  },
  {
   "cell_type": "code",
   "execution_count": 113,
   "metadata": {},
   "outputs": [
    {
     "name": "stdout",
     "output_type": "stream",
     "text": [
      "{2, 3}\n"
     ]
    }
   ],
   "source": [
    "# Intersecção: &\n",
    "    # Retorna os valores que estão contidos em ambos os sets, excluíndo os valores únicos.\n",
    "teste_12 = {1, 2, 3} # Perceca que o número 2 e 3 estão presentens em ambos os Sets.\n",
    "teste_13 = {2, 3, 4} # Os números 1 e 4 são os únicos que estão em sets separados.\n",
    "teste_14 = teste_12 & teste_13 # Pegando apenas os valores que estão contido em ambos.\n",
    "print(teste_14)"
   ]
  },
  {
   "cell_type": "code",
   "execution_count": 115,
   "metadata": {},
   "outputs": [
    {
     "name": "stdout",
     "output_type": "stream",
     "text": [
      "{1}\n"
     ]
    }
   ],
   "source": [
    "# Diferença: -\n",
    "    # Retorna apenas os valores únicos que estão no set da esquerda da operação\n",
    "teste_12 = {1, 2, 3} # Perceca que o número 2 e 3 estão presentens em ambos os Sets.\n",
    "teste_13 = {2, 3, 4} # Os números 1 e 4 são os únicos que estão em sets separados.\n",
    "teste_14 = teste_12 - teste_13 # Retorna apenas o valor que contém apenas no set colocado a esquerda da operação.\n",
    "print(teste_14)"
   ]
  },
  {
   "cell_type": "code",
   "execution_count": 117,
   "metadata": {},
   "outputs": [
    {
     "name": "stdout",
     "output_type": "stream",
     "text": [
      "{4}\n"
     ]
    }
   ],
   "source": [
    "# Invertendo o sets\n",
    "# Diferença: -\n",
    "    # Retorna apenas os valores únicos que estão no set da esquerda da operação\n",
    "teste_12 = {1, 2, 3} # Perceca que o número 2 e 3 estão presentens em ambos os Sets.\n",
    "teste_13 = {2, 3, 4} # Os números 1 e 4 são os únicos que estão em sets separados.\n",
    "teste_14 = teste_13 - teste_12 # Retorna apenas o valor que contém apenas no set colocado a esquerda da operação.\n",
    "print(teste_14)"
   ]
  },
  {
   "cell_type": "code",
   "execution_count": 118,
   "metadata": {},
   "outputs": [
    {
     "name": "stdout",
     "output_type": "stream",
     "text": [
      "{1, 4}\n"
     ]
    }
   ],
   "source": [
    "# Diferença símetrica: ^\n",
    "    # Retorna os valores que não estão em ambos, ou seja, o valor único de cada set.\n",
    "teste_12 = {1, 2, 3} # Perceca que o número 2 e 3 estão presentens em ambos os Sets.\n",
    "teste_13 = {2, 3, 4} # Os números 1 e 4 são os únicos que estão em sets separados.\n",
    "teste_14 = teste_12 ^ teste_13 # Retorna o valor único de cada set.\n",
    "print(teste_14)"
   ]
  },
  {
   "cell_type": "code",
   "execution_count": 124,
   "metadata": {},
   "outputs": [
    {
     "name": "stdout",
     "output_type": "stream",
     "text": [
      "Acertou a letra misteriosa.\n",
      "Você tentou 6 vezes\n"
     ]
    }
   ],
   "source": [
    "# Exemplo de uso prático com sets\n",
    "letras = set() # Definindo um set vazio.\n",
    "while True: # Criando um laço de repetição\n",
    "    letra = input('Digite uma letra: ').lower().strip() # Input para o usuário digitar uma letra\n",
    "    letras.add(letra) # utilizando o método 'add', adicionando o que o usuário digitar no set 'letras' que inicialmente estava vazio.\n",
    "\n",
    "    if 'l' in letras: # Condicional, caso o usuário digite 'l'\n",
    "        print('Acertou a letra misteriosa.') # Exibe isso na tela\n",
    "        #print(f'Você tentou', len(letras), 'vezes') # Para mostrar a quantidade tentada apenas no final\n",
    "        break # E encerra o laço\n",
    "\n",
    "    print(letras) # Mostra o resultado do set ao final do código. (Pode ser tentativas de acertos e etc)\n",
    "    print(f'Você tentou', len(letras), 'vezes') # Utilizando o metodo 'len' no set, consigo verificar a quantidade de tentativas do usuário.\n",
    "    \n",
    "\n",
    "# A vantagem de criar um set vazio para ir armazenando as letras digitadas pelo usuário, é que o set não \n",
    "# guarda valores repetidos!"
   ]
  },
  {
   "cell_type": "markdown",
   "metadata": {},
   "source": [
    "# Função Lambda\n",
    "É uma função anônima que contém apenas uma linha.  \n",
    "Nesse caso, tudo deve ser contido em uma única expressão."
   ]
  },
  {
   "cell_type": "code",
   "execution_count": 3,
   "metadata": {},
   "outputs": [
    {
     "name": "stdout",
     "output_type": "stream",
     "text": [
      "[1, 2, 3, 4, 5, 6, 7, 8, 9]\n"
     ]
    }
   ],
   "source": [
    "# Para ordernar um set é utilizado sorted()\n",
    "\n",
    "# Exemplo\n",
    "teste_15 = {1, 2, 3, 4, 5, 6, 7, 8, 9} # Set com valores\n",
    "teste_16 = sorted(teste_15) # Utilizando o método 'sorted' para ordenar o set.\n",
    "print(teste_16) # Print do set ordenado."
   ]
  },
  {
   "cell_type": "code",
   "execution_count": 4,
   "metadata": {},
   "outputs": [
    {
     "name": "stdout",
     "output_type": "stream",
     "text": [
      "[1, 2, 3, 4, 5, 6, 7, 8, 9]\n"
     ]
    }
   ],
   "source": [
    "# Para ordernar uma lista é utilizado .sort()\n",
    "\n",
    "# Exemplo\n",
    "teste_17 = [1, 2, 3, 4, 5, 6, 7, 8, 9] # Lista com valores\n",
    "teste_17.sort() # Utilizando o método 'sort' para ordenar a lista.\n",
    "print(teste_17) # Print da lista ordenada.  # Print do set ordenado.   "
   ]
  },
  {
   "cell_type": "markdown",
   "metadata": {},
   "source": []
  },
  {
   "cell_type": "markdown",
   "metadata": {},
   "source": [
    "# Lista de compressão\n",
    " Exemplo:\n",
    " "
   ]
  },
  {
   "cell_type": "code",
   "execution_count": 2,
   "metadata": {},
   "outputs": [
    {
     "name": "stdout",
     "output_type": "stream",
     "text": [
      "2\n"
     ]
    }
   ],
   "source": [
    "numbers = [(int(input(f'Digite {i+1} número'))) for i in range(2)]\n",
    "\n",
    "conta = numbers[0] * numbers[1]\n",
    "print(conta)"
   ]
  },
  {
   "cell_type": "markdown",
   "metadata": {},
   "source": [
    "### De volta a lambda\n",
    "\n"
   ]
  },
  {
   "cell_type": "code",
   "execution_count": 4,
   "metadata": {},
   "outputs": [
    {
     "name": "stdout",
     "output_type": "stream",
     "text": [
      "5\n"
     ]
    }
   ],
   "source": [
    "def executa(funcao, *args):\n",
    "    return funcao(*args)\n",
    "\n",
    "def soma(x, y):\n",
    "    return x + y\n",
    "\n",
    "print(\n",
    "    executa(\n",
    "        lambda x, y: x + y, 2, 3 # Função lambda não recebe nome, apenas argumentos. E é executada na mesma linha.\n",
    "    )\n",
    ")"
   ]
  },
  {
   "cell_type": "markdown",
   "metadata": {},
   "source": [
    "# List comprehension"
   ]
  },
  {
   "cell_type": "markdown",
   "metadata": {},
   "source": [
    "#### Uma forma rápida para criar listas a partir de iteráveis"
   ]
  },
  {
   "cell_type": "code",
   "execution_count": 4,
   "metadata": {},
   "outputs": [
    {
     "name": "stdout",
     "output_type": "stream",
     "text": [
      "[0, 1, 2, 3, 4, 5, 6, 7, 8, 9]\n"
     ]
    }
   ],
   "source": [
    "# Forma sem List comprehension\n",
    "lista = []\n",
    "for i in range(10):\n",
    "    lista.append(i)\n",
    "\n",
    "print(lista)"
   ]
  },
  {
   "cell_type": "code",
   "execution_count": 5,
   "metadata": {},
   "outputs": [
    {
     "name": "stdout",
     "output_type": "stream",
     "text": [
      "[0, 1, 2, 3, 4, 5, 6, 7, 8, 9]\n"
     ]
    }
   ],
   "source": [
    "# Faz dessa\n",
    "lista = [i for i in range(10)]\n",
    "\n",
    "print(lista)"
   ]
  },
  {
   "cell_type": "code",
   "execution_count": 6,
   "metadata": {},
   "outputs": [
    {
     "name": "stdout",
     "output_type": "stream",
     "text": [
      "[0, 2, 4, 6, 8, 10, 12, 14, 16, 18, 20]\n"
     ]
    }
   ],
   "source": [
    "lista = [2*i for i in range(11)]\n",
    "\n",
    "print(lista)"
   ]
  },
  {
   "cell_type": "markdown",
   "metadata": {},
   "source": [
    "### Filtro de List comprehension"
   ]
  },
  {
   "cell_type": "code",
   "execution_count": 13,
   "metadata": {},
   "outputs": [
    {
     "name": "stdout",
     "output_type": "stream",
     "text": [
      "[5, 6, 7, 8, 9]\n"
     ]
    }
   ],
   "source": [
    "lista = [i for i in range(10) if i >= 5]\n",
    "\n",
    "print(lista)"
   ]
  },
  {
   "cell_type": "markdown",
   "metadata": {},
   "source": [
    "### Atenção:  \n",
    "O que vem a esquerda do *for* é mapeamento, o que vem a direita é *filtro*.  \n",
    "  \n",
    "**Mapeamento**: Pegando um dado *transformando* ou não, e jogando em uma outra lista, se e apenas se essas duas listas tiverem o mesmo tamanho. *Insight*: Podemos fazer isso com **DataFrame**.\n"
   ]
  },
  {
   "cell_type": "markdown",
   "metadata": {},
   "source": [
    "# isistance  \n",
    "#### Interpretação: É instâcia de.\n",
    "\n",
    "É utilizado por vezes para chegar se tal lista contém itens de tal isntância."
   ]
  },
  {
   "cell_type": "code",
   "execution_count": 3,
   "metadata": {},
   "outputs": [
    {
     "name": "stdout",
     "output_type": "stream",
     "text": [
      "a True\n",
      "1 False\n",
      "1.2 False\n",
      "Vermelho True\n",
      "False False\n",
      "Green True\n",
      "51 False\n"
     ]
    }
   ],
   "source": [
    "lista = ['a', 1, 1.2, 'Vermelho', False, 'Green', 51]\n",
    "\n",
    "\n",
    "for item in lista:\n",
    "    print(item, isinstance(item, str))"
   ]
  },
  {
   "cell_type": "markdown",
   "metadata": {},
   "source": [
    "## Generation\n",
    "Funções que sabem parar."
   ]
  },
  {
   "cell_type": "code",
   "execution_count": 1,
   "metadata": {},
   "outputs": [
    {
     "name": "stdout",
     "output_type": "stream",
     "text": [
      "85176\n",
      "192\n"
     ]
    }
   ],
   "source": [
    "# Utilidade\n",
    "import sys\n",
    "\n",
    "lista = [n for n in range(10000)]\n",
    "generator = (n for n in range(10000))\n",
    "\n",
    "print(sys.getsizeof(lista))\n",
    "print(sys.getsizeof(generator))\n",
    "\n",
    "# A diferença de tamanho salvo na memória é absurdo"
   ]
  },
  {
   "cell_type": "markdown",
   "metadata": {},
   "source": [
    "### yield \n",
    "pausa funções"
   ]
  },
  {
   "cell_type": "code",
   "execution_count": 14,
   "metadata": {},
   "outputs": [
    {
     "name": "stdout",
     "output_type": "stream",
     "text": [
      "0\n",
      "1\n",
      "2\n",
      "3\n",
      "4\n",
      "5\n"
     ]
    }
   ],
   "source": [
    "def generator(inicio=0, maximo=10):\n",
    "    while True:\n",
    "        yield inicio\n",
    "        inicio += 1\n",
    "\n",
    "        if inicio > maximo:\n",
    "            return\n",
    " \n",
    "    \n",
    "\n",
    "executa = generator(maximo=5)\n",
    "\n",
    "for i in executa:\n",
    "    print(i)"
   ]
  },
  {
   "cell_type": "markdown",
   "metadata": {},
   "source": [
    "# Tratando error\n",
    "Não é recomendado que se utilize try e except sem especificar o erro que você quer tratar.  \n",
    "Portando, devemos definir o erro a ser tratado."
   ]
  },
  {
   "cell_type": "code",
   "execution_count": 22,
   "metadata": {},
   "outputs": [
    {
     "name": "stdout",
     "output_type": "stream",
     "text": [
      "Erro: Divisão por Zero.\n",
      "Fora do try\n"
     ]
    }
   ],
   "source": [
    "try:\n",
    "    a = 10\n",
    "    b = 0\n",
    "    c = a / b\n",
    "except ZeroDivisionError:\n",
    "    print('Erro: Divisão por Zero.')\n",
    "\n",
    "print('Fora do try')"
   ]
  },
  {
   "cell_type": "code",
   "execution_count": 34,
   "metadata": {},
   "outputs": [
    {
     "name": "stdout",
     "output_type": "stream",
     "text": [
      "NameError\n",
      "Fora do try\n"
     ]
    }
   ],
   "source": [
    "try:\n",
    "    a = 10\n",
    "    # p = 0\n",
    "    c = a / p\n",
    "except (ZeroDivisionError, NameError) as error:\n",
    "    print(error.__class__.__name__)\n",
    "\n",
    "print('Fora do try')"
   ]
  }
 ],
 "metadata": {
  "kernelspec": {
   "display_name": "base",
   "language": "python",
   "name": "python3"
  },
  "language_info": {
   "codemirror_mode": {
    "name": "ipython",
    "version": 3
   },
   "file_extension": ".py",
   "mimetype": "text/x-python",
   "name": "python",
   "nbconvert_exporter": "python",
   "pygments_lexer": "ipython3",
   "version": "3.12.4"
  }
 },
 "nbformat": 4,
 "nbformat_minor": 2
}
