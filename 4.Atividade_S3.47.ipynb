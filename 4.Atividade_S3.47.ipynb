{
 "cells": [
  {
   "cell_type": "code",
   "execution_count": 151,
   "metadata": {},
   "outputs": [],
   "source": [
    "name = input('Digite seu nome: ')\n",
    "age = input('Digite sua idade: ')"
   ]
  },
  {
   "cell_type": "code",
   "execution_count": 152,
   "metadata": {},
   "outputs": [
    {
     "name": "stdout",
     "output_type": "stream",
     "text": [
      "Seu nome não contém espaços\n"
     ]
    }
   ],
   "source": [
    "if name == '' and age == '':\n",
    "    resultado = 'Nome ou idade não preenchidos.'\n",
    "elif name == ' ' and age == ' ':\n",
    "    resultado = 'Os campos não podem ser preenchidos somente com espaço.'\n",
    "else:\n",
    "    resultado = (\n",
    "    f'Seu nome é {name}\\n'\n",
    "    f'Sua idade é {age} anos \\n'\n",
    "    f'Seu nome invertido é: {name[::-1]}\\n'\n",
    "    f'Seu nome tem {len(name)} letras\\n'\n",
    "    f'A primeira letra de seu nome é: {name[0]}\\n'\n",
    "    f'A última letra de seu nome é: {name[-1]}\\n'\n",
    ")\n",
    "if ' ' in name:\n",
    "    print(f'Seu nome contém espaços')\n",
    "else:\n",
    "    print(f'Seu nome não contém espaços')\n"
   ]
  },
  {
   "cell_type": "code",
   "execution_count": 154,
   "metadata": {},
   "outputs": [
    {
     "name": "stdout",
     "output_type": "stream",
     "text": [
      "Seu nome é lucas\n",
      "Sua idade é 23 anos \n",
      "Seu nome invertido é: sacul\n",
      "Seu nome tem 5 letras\n",
      "A primeira letra de seu nome é: l\n",
      "A última letra de seu nome é: s\n",
      "\n"
     ]
    }
   ],
   "source": [
    "print(resultado)"
   ]
  }
 ],
 "metadata": {
  "kernelspec": {
   "display_name": "base",
   "language": "python",
   "name": "python3"
  },
  "language_info": {
   "codemirror_mode": {
    "name": "ipython",
    "version": 3
   },
   "file_extension": ".py",
   "mimetype": "text/x-python",
   "name": "python",
   "nbconvert_exporter": "python",
   "pygments_lexer": "ipython3",
   "version": "3.11.7"
  }
 },
 "nbformat": 4,
 "nbformat_minor": 2
}
