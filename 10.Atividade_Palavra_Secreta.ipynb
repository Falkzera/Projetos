{
 "cells": [
  {
   "cell_type": "markdown",
   "metadata": {},
   "source": [
    "# Jogo da Palavra Secreta"
   ]
  },
  {
   "cell_type": "code",
   "execution_count": 1,
   "metadata": {},
   "outputs": [
    {
     "name": "stdout",
     "output_type": "stream",
     "text": [
      "Palavra secreta:  ********\n",
      "Palavra secreta:  ********\n",
      "Palavra secreta:  ********\n",
      "Palavra secreta:  ********\n",
      "Palavra secreta:  ********\n",
      "Palavra secreta:  ********\n",
      "Digite apenas uma letra. \n",
      "Palavra secreta:  ********\n",
      "Digite apenas letras. \n",
      "Palavra secreta:  ********\n",
      "Digite apenas uma letra. \n",
      "Palavra secreta:  ********\n",
      "Palavra secreta:  h*******\n",
      "Palavra secreta:  he**e*e*\n",
      "Palavra secreta:  hei*e*e*\n",
      "Palavra secreta:  heine*en\n",
      "Palavra secreta:  heineken\n",
      "Você ganhou, parabéns!\n",
      "A palavra era: heineken\n",
      "Você tentou  15\n"
     ]
    }
   ],
   "source": [
    "password = 'heineken'  # Senha que o usuário tem que acertar \n",
    "acerto = ''\n",
    "\n",
    "eu_tentei = 0\n",
    "\n",
    "while True:  # Condição de repetição\n",
    "       \n",
    "    tentativa = input('Digite uma letra: ').lower().strip() # Input que vai aparecer ao usuário\n",
    "    eu_tentei += 1\n",
    "\n",
    "    if not tentativa.isalpha(): # Se a tentativa não for alfabetica retorna, pede para o usuário digitar novamente\n",
    "        print('Digite apenas letras. ') \n",
    "        continue\n",
    "       \n",
    "    if len(tentativa) > 1: # Se o usuário digitar mais de um caractere, pede para que ele digite apenas uma.\n",
    "        print('Digite apenas uma letra. ')\n",
    "\n",
    "    if tentativa in password: #  Esta linha verifica se a letra (ou tentativa) fornecida pelo usuário está na palavra secreta (password). Se estiver, a letra é adicionada à string acerto, que armazena todas as letras corretamente adivinhadas \n",
    "        acerto += tentativa\n",
    "                \n",
    "    tentativas = ''\n",
    "    for letra in password:\n",
    "        if letra in acerto:\n",
    "            tentativas += letra\n",
    "        \n",
    "        else:\n",
    "           tentativas += '*'\n",
    "        \n",
    "    print('Palavra secreta: ', tentativas)\n",
    "    \n",
    "    if tentativas == password:\n",
    "        print('Você ganhou, parabéns!')\n",
    "        print('A palavra era:', password)\n",
    "        print('Você tentou ', eu_tentei, 'vezes')\n",
    "        break"
   ]
  }
 ],
 "metadata": {
  "kernelspec": {
   "display_name": "base",
   "language": "python",
   "name": "python3"
  },
  "language_info": {
   "codemirror_mode": {
    "name": "ipython",
    "version": 3
   },
   "file_extension": ".py",
   "mimetype": "text/x-python",
   "name": "python",
   "nbconvert_exporter": "python",
   "pygments_lexer": "ipython3",
   "version": "3.11.7"
  }
 },
 "nbformat": 4,
 "nbformat_minor": 2
}
