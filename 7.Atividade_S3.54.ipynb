{
 "cells": [
  {
   "cell_type": "markdown",
   "metadata": {},
   "source": [
    "Faça um programa que peça ao usuário para digitar um número inteiro,\n",
    "informe se este número é par ou ímpar. Caso o usuário não digite um número\n",
    "inteiro, informe que não é um número inteiro."
   ]
  },
  {
   "cell_type": "code",
   "execution_count": 81,
   "metadata": {},
   "outputs": [
    {
     "name": "stdout",
     "output_type": "stream",
     "text": [
      "Nenhum número inteiro foi digitado.\n"
     ]
    }
   ],
   "source": [
    "name = input('Digite seu nome: ')\n",
    "number = input('Digite um número inteiro: ').strip()\n",
    "\n",
    "if number.isdigit():\n",
    "    number = int(number)\n",
    "    resultado = {number % 2}\n",
    "    if resultado == {0}:\n",
    "        print(f'{name} o número escolhido {number} é par.')\n",
    "    elif resultado != {0}:\n",
    "        print(f'{name} o número escolhido {number} é ímpar.')\n",
    "else:\n",
    "    print('Nenhum número inteiro foi digitado.')"
   ]
  },
  {
   "cell_type": "markdown",
   "metadata": {},
   "source": [
    "Faça um programa que pergunte a hora ao usuário e, baseando-se no horário \n",
    "descrito, exiba a saudação apropriada. Ex. \n",
    "Bom dia 0-11, Boa tarde 12-17 e Boa noite 18-23."
   ]
  },
  {
   "cell_type": "code",
   "execution_count": 94,
   "metadata": {},
   "outputs": [],
   "source": [
    "hour = input('Que horas são?: ').strip()\n",
    "\n",
    "if hour.isdigit():\n",
    "    hour = int(hour)\n",
    "    if hour >= 0 and hour <= 11:\n",
    "        print(f' São exatamente {hour}:00 horas, então tenha um Bom dia.')\n",
    "    elif hour >= 12 and hour <= 17:\n",
    "        print(f'São extamente {hour}:00 horas, então tenha uma Boa tarde.')\n",
    "    elif hour >= 18 and hour <= 23:\n",
    "        print(f'São exatamente {hour}:00 horas, então tenha uma Boa noite.')\n",
    "    elif hour > 25:\n",
    "        print(f'Esse horário não existe, utilize o formato 0-24 horas.')\n",
    "else:\n",
    "    print('Você não digitou um horário.')"
   ]
  },
  {
   "cell_type": "markdown",
   "metadata": {},
   "source": [
    "Faça um programa que peça o primeiro nome do usuário. Se o nome tiver 4 letras ou \n",
    "menos escreva \"Seu nome é curto\"; se tiver entre 5 e 6 letras, escreva \n",
    "\"Seu nome é normal\"; maior que 6 escreva \"Seu nome é muito grande\". "
   ]
  },
  {
   "cell_type": "code",
   "execution_count": 98,
   "metadata": {},
   "outputs": [
    {
     "name": "stdout",
     "output_type": "stream",
     "text": [
      "Seu nome 2.2 é muito curto, possui apenas 3 letras\n"
     ]
    }
   ],
   "source": [
    "name = input('Digite seu nome: ').strip()\n",
    "\n",
    "# O name retornará uma str\n",
    "# Eu quero um texto, e não um int ou float.\n",
    "\n",
    "\n",
    "if not name.isdigit():\n",
    "        \n",
    "    if len(name) <= 4:\n",
    "        print(f'Seu nome {name} é muito curto, possui apenas {len(name)} letras')\n",
    "    elif len(name) == 5 and 6:\n",
    "        print(f'Seu nome {name} é normal, possui {len(name)} letras')\n",
    "    elif len(name) >= 7:\n",
    "        print(f'Seu nome {name} é longo, possui {len(name)} letras')\n",
    "else:\n",
    "    print('Você não digitou um nome. ')"
   ]
  }
 ],
 "metadata": {
  "kernelspec": {
   "display_name": "base",
   "language": "python",
   "name": "python3"
  },
  "language_info": {
   "codemirror_mode": {
    "name": "ipython",
    "version": 3
   },
   "file_extension": ".py",
   "mimetype": "text/x-python",
   "name": "python",
   "nbconvert_exporter": "python",
   "pygments_lexer": "ipython3",
   "version": "3.11.7"
  }
 },
 "nbformat": 4,
 "nbformat_minor": 2
}
