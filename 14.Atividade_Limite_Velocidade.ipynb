{
 "cells": [
  {
   "cell_type": "markdown",
   "metadata": {},
   "source": [
    "# Atividade \n",
    "\n",
    "Situação de radar, limite de velocidade e multa por tipo."
   ]
  },
  {
   "cell_type": "code",
   "execution_count": 1,
   "metadata": {},
   "outputs": [
    {
     "name": "stdout",
     "output_type": "stream",
     "text": [
      "Digite a velocidade do carro.\n",
      "Digite a velocidade do carro.\n",
      "A velocidade do carro é 21 KM/H.\n",
      "A posição do carro é 12.\n",
      "O carro não está próximo do radar.\n"
     ]
    }
   ],
   "source": [
    "# Parametros para o exercicio:\n",
    "\n",
    "VELOCIDADE_MAXIMA = 60 # Define a velocidade máxima da via.\n",
    "POSICAO = 100 # Define a posição em que ele esta na via.\n",
    "POSICAO_RADAR = 100 # Define a posição do radar.\n",
    "RANGE_RADAR = 1 # Define o range do radar. +1/-1\n",
    "\n",
    "while True:\n",
    "    try:\n",
    "        velocidade_carro = int(input('Qual a velocidade do carro? ').strip())\n",
    "        if velocidade_carro > 0:\n",
    "            print(f'A velocidade do carro é {velocidade_carro} KM/H.')\n",
    "            break\n",
    "        else:\n",
    "            print('Velocidade inválida.')\n",
    "            continue          \n",
    "    except: \n",
    "        print('Digite a velocidade do carro.')\n",
    "        continue\n",
    "\n",
    "while True:\n",
    "\n",
    "    try:\n",
    "        posicao_carro = int(input('Qual a posição do carro? ').strip())\n",
    "        if posicao_carro > 0:\n",
    "            print(f'A posição do carro é {posicao_carro}.')\n",
    "            break\n",
    "        else:\n",
    "            print('Posição inválida.')\n",
    "    except: \n",
    "        print('Digite a posição do carro do carro.')\n",
    "        continue\n",
    "\n",
    "if POSICAO_RADAR + RANGE_RADAR == posicao_carro or POSICAO_RADAR - RANGE_RADAR == posicao_carro or POSICAO_RADAR == posicao_carro:\n",
    "    print('Voce está no range do radar.')\n",
    "    if velocidade_carro <= VELOCIDADE_MAXIMA:\n",
    "        print('O carro não foi multado.')\n",
    "    elif velocidade_carro > VELOCIDADE_MAXIMA:\n",
    "        print('O carro está acima da velocidade permitida.')\n",
    "        if velocidade_carro <= 70:\n",
    "            print('Você recebeu uma multa leve.')\n",
    "        elif velocidade_carro <= 80:\n",
    "            print('Você recebeu uma multa grave.')\n",
    "        elif velocidade_carro <= 90:\n",
    "            print('Você recebeu uma multa muito grave.')\n",
    "        else:\n",
    "            print('Você recebeu uma multa gravissima.')            \n",
    "else:\n",
    "    print('O carro não está próximo do radar.')\n",
    "\n"
   ]
  }
 ],
 "metadata": {
  "kernelspec": {
   "display_name": "base",
   "language": "python",
   "name": "python3"
  },
  "language_info": {
   "codemirror_mode": {
    "name": "ipython",
    "version": 3
   },
   "file_extension": ".py",
   "mimetype": "text/x-python",
   "name": "python",
   "nbconvert_exporter": "python",
   "pygments_lexer": "ipython3",
   "version": "3.11.7"
  }
 },
 "nbformat": 4,
 "nbformat_minor": 2
}
