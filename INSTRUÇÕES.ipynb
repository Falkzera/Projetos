{
 "cells": [
  {
   "cell_type": "markdown",
   "metadata": {},
   "source": [
    "# Estrutura Condicional em Python.\n",
    "\n",
    "### **if ...:**\n",
    "Esta é a primeira condição que é verificada. Se essa condição for verdadeira (True), o bloco de código indentado logo abaixo dela será executado. Se for falsa (False), o programa passará para a próxima condição (elif) ou para o bloco else, se não houver elif.\n",
    "Tradução: \"Se (uma condição específica for verdadeira), então faça o seguinte...\"\n",
    "\n",
    "### **elif ...:**\n",
    "elif é uma abreviação de \"else if\". É usado para verificar uma condição adicional se a condição no if anterior for falsa. Pode haver vários blocos elif após um if, e eles são verificados em ordem. Se uma condição elif for verdadeira, o bloco de código correspondente será executado, e o programa não verificará mais condições elif ou o bloco else subsequente.\n",
    "Tradução: \"Senão, se (outra condição específica for verdadeira), então faça o seguinte...\"\n",
    "\n",
    "### **else:**\n",
    "O bloco else é executado se nenhuma das condições anteriores (if ou elif) for verdadeira. É como uma última opção, quando todas as outras condições específicas falharam.\n",
    "Tradução: \"Senão (nenhuma das condições anteriores for verdadeira), então faça o seguinte...\""
   ]
  },
  {
   "cell_type": "code",
   "execution_count": 1,
   "metadata": {},
   "outputs": [
    {
     "name": "stdout",
     "output_type": "stream",
     "text": [
      "Adulto\n"
     ]
    }
   ],
   "source": [
    "'''\n",
    "Exemplo de utilização:\n",
    "Imagine que você está escrevendo um programa para classificar a faixa etária de uma pessoa com base em sua idade:\n",
    "'''\n",
    "\n",
    "idade = 18\n",
    "\n",
    "if idade < 13:\n",
    "    print(\"Criança\")\n",
    "elif idade < 18:\n",
    "    print(\"Adolescente\")\n",
    "else:\n",
    "    print(\"Adulto\")"
   ]
  },
  {
   "cell_type": "markdown",
   "metadata": {},
   "source": [
    "# Tratamento de exceções em Python\n",
    "\n",
    "### **try:**\n",
    "O bloco try é onde você coloca o código que pode potencialmente causar um erro durante a execução. Python tentará executar esse código normalmente.\n",
    "Tradução: \"Tente executar o seguinte código...\"\n",
    "\n",
    "### **except:**\n",
    "\n",
    "O bloco except é executado se um erro ocorrer dentro do bloco try. Aqui, você pode colocar o código que define o que deve ser feito caso um erro seja encontrado, como registrar o erro, tentar uma solução alternativa, ou simplesmente informar o usuário sobre o problema. É possível especificar tipos específicos de exceções para capturar diferentes tipos de erros de forma mais granular.\n",
    "Tradução: \"Se um erro ocorrer, então faça o seguinte...\"\n"
   ]
  },
  {
   "cell_type": "code",
   "execution_count": 1,
   "metadata": {},
   "outputs": [],
   "source": [
    "'''\n",
    "Tradução para uma lógica em português:\n",
    "\n",
    "\"Tente executar o seguinte código: ler dois números do usuário, dividir o primeiro pelo segundo e imprimir o resultado.\"\n",
    "\"Se um erro de divisão por zero ocorrer, então informe ao usuário que não é possível dividir por zero.\"\n",
    "'''\n",
    "\n",
    "try:\n",
    "    numerador = float(input(\"Digite o numerador: \"))\n",
    "    denominador = float(input(\"Digite o denominador: \"))\n",
    "    resultado = numerador / denominador\n",
    "    print(f\"Resultado: {resultado}\")\n",
    "except ZeroDivisionError:\n",
    "    print(\"Erro: Não é possível dividir por zero.\")"
   ]
  },
  {
   "cell_type": "markdown",
   "metadata": {},
   "source": [
    "# Estrutura de Looping (infinita)\n",
    "\n",
    "### **while ...:**\n",
    "O while executa o bloco de código indentado sob ele enquanto a condição especificada após o while for verdadeira. A condição é verificada antes de cada iteração do loop.\n",
    "Tradução: \"Enquanto (uma condição específica for verdadeira), faça o seguinte...\"\n",
    "\n",
    "\n",
    "## **break**\n",
    "O break é usado dentro de um loop para sair imediatamente dele, independentemente da condição do while. Normalmente, o break é colocado dentro de uma estrutura condicional (if) dentro do loop, para que o loop seja interrompido sob uma condição específica, além da condição principal do while.\n",
    "Tradução: \"Interrompa o loop imediatamente.\"\n",
    "\n",
    "## **continue**\n",
    "\n",
    "O continue é colocado dentro de uma estrutura condicional (if) dentro do loop. Quando a condição especificada no if é verdadeira, o continue é executado. Isso faz com que o loop ignore o restante do código que vem após o continue na iteração atual e vá diretamente para a próxima iteração do loop, onde a condição do loop é avaliada novamente."
   ]
  },
  {
   "cell_type": "code",
   "execution_count": null,
   "metadata": {},
   "outputs": [],
   "source": [
    "'''\n",
    "\"Enquanto o número for menor que 10, faça o seguinte: \n",
    "aumente o número em 1. Se o número for igual a 5, pule para a próxima iteração do loop sem imprimir o número. \n",
    "Se o número for igual a 8, encerre o loop.\n",
    "Para todos os outros números, imprima o número.\"\n",
    "'''\n",
    "\n",
    "numero = 0\n",
    "while numero < 10:\n",
    "    numero += 1\n",
    "    if numero == 5:\n",
    "        continue\n",
    "    elif numero == 8:\n",
    "        break\n",
    "    print(numero)"
   ]
  },
  {
   "cell_type": "markdown",
   "metadata": {},
   "source": [
    "# Estrutura de Looping (finita)\n",
    "\n",
    "Explicação Passo a Passo:\n",
    "Definição da String: A variável texto é definida com o valor 'Python', que é uma string.\n",
    "Loop for: A estrutura de loop for é usada para iterar sobre cada caractere na string texto.\n",
    "Iteração: A palavra-chave in permite que o loop passe por cada caractere na string texto.\n",
    "Execução do Bloco de Código: Para cada iteração, o caractere atual (referenciado pela variável letra) é impresso na tela.\n",
    "Repetição: Este processo se repete automaticamente para cada caractere na string texto, começando do primeiro caractere até o último.\n",
    "\n",
    "\n",
    "\n",
    "Explicação Passo a Passo:\n",
    "Criação da Sequência de Números: A função range(0, 100, 8) cria uma sequência de números que começa em 0 e vai até, mas não inclui, 100, incrementando-se de 8 em 8. Isso significa que a sequência contém os números 0, 8, 16, 24, ..., 96.\n",
    "Loop for: A estrutura de loop for é usada para iterar sobre cada número na sequência criada pela função range.\n",
    "Iteração: A palavra-chave in permite que o loop passe por cada número na sequência numeros.\n",
    "Execução do Bloco de Código: Para cada iteração, o número atual (referenciado pela variável numero) é impresso na tela.\n",
    "Repetição: Este processo se repete automaticamente para cada número na sequência numeros, começando do primeiro número até o último número da sequência."
   ]
  },
  {
   "cell_type": "code",
   "execution_count": 7,
   "metadata": {},
   "outputs": [
    {
     "name": "stdout",
     "output_type": "stream",
     "text": [
      ".\n",
      ".\n",
      ".\n",
      "0\n",
      "8\n"
     ]
    }
   ],
   "source": [
    "texto = '...'\n",
    "for letra in texto:\n",
    "    print(letra)\n",
    "\n",
    "\n",
    "numeros = range(0, 16, 8)\n",
    "\n",
    "for numero in numeros:\n",
    "    print(numero)"
   ]
  },
  {
   "cell_type": "markdown",
   "metadata": {},
   "source": [
    "# Lopping com For, in, if, continue, break e else"
   ]
  },
  {
   "cell_type": "code",
   "execution_count": 8,
   "metadata": {},
   "outputs": [
    {
     "name": "stdout",
     "output_type": "stream",
     "text": [
      "0 1\n",
      "0 2\n",
      "1 1\n",
      "1 2\n",
      "i é 2, pulando...\n",
      "3 1\n",
      "3 2\n",
      "4 1\n",
      "4 2\n",
      "5 1\n",
      "5 2\n",
      "6 1\n",
      "6 2\n",
      "7 1\n",
      "7 2\n",
      "i é 8, seu else não executará\n",
      "0 1\n",
      "0 2\n",
      "1 1\n",
      "1 2\n",
      "i é 2, pulando...\n",
      "3 1\n",
      "3 2\n",
      "4 1\n",
      "4 2\n",
      "5 1\n",
      "5 2\n",
      "6 1\n",
      "6 2\n",
      "7 1\n",
      "7 2\n",
      "i é 8, seu else não executará\n"
     ]
    }
   ],
   "source": [
    "# Exemplo com for\n",
    "\n",
    "for i in range(10):\n",
    "    if i == 2:\n",
    "        print('i é 2, pulando...')\n",
    "        continue\n",
    "\n",
    "    if i == 8:\n",
    "        print('i é 8, seu else não executará')\n",
    "        break\n",
    "\n",
    "    for j in range(1, 3):\n",
    "        print(i, j)\n",
    "else:\n",
    "    print('For completo com sucesso!')\n",
    "\n",
    "\n",
    "# Exemplo com while\n",
    "\n",
    "i = 0\n",
    "while i < 10:\n",
    "    if i == 2:\n",
    "        print('i é 2, pulando...')\n",
    "        i += 1\n",
    "        continue\n",
    "\n",
    "    if i == 8:\n",
    "        print('i é 8, seu else não executará')\n",
    "        break\n",
    "\n",
    "    j = 1\n",
    "    while j < 3:\n",
    "        print(i, j)\n",
    "        j += 1\n",
    "\n",
    "    i += 1\n",
    "else:\n",
    "    print('For completo com sucesso!')"
   ]
  },
  {
   "cell_type": "markdown",
   "metadata": {},
   "source": []
  },
  {
   "cell_type": "code",
   "execution_count": null,
   "metadata": {},
   "outputs": [],
   "source": []
  }
 ],
 "metadata": {
  "kernelspec": {
   "display_name": "base",
   "language": "python",
   "name": "python3"
  },
  "language_info": {
   "codemirror_mode": {
    "name": "ipython",
    "version": 3
   },
   "file_extension": ".py",
   "mimetype": "text/x-python",
   "name": "python",
   "nbconvert_exporter": "python",
   "pygments_lexer": "ipython3",
   "version": "3.11.7"
  }
 },
 "nbformat": 4,
 "nbformat_minor": 2
}
