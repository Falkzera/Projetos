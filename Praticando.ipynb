{
 "cells": [
  {
   "cell_type": "markdown",
   "metadata": {},
   "source": [
    "PRATICANDO EXEMPLOS ALETÓRIOS OU DE EXERCÍCIOS"
   ]
  },
  {
   "cell_type": "markdown",
   "metadata": {},
   "source": [
    "1. Treinando a utilização do .format e alterando suas ordens na frase."
   ]
  },
  {
   "cell_type": "code",
   "execution_count": 21,
   "metadata": {},
   "outputs": [
    {
     "name": "stdout",
     "output_type": "stream",
     "text": [
      "Luiz tem 23 anos e 1.8 de altura\n"
     ]
    }
   ],
   "source": [
    "nome = \"Luiz\"\n",
    "idade = 23\n",
    "altura = 1.80\n",
    "formato = '{0} tem {1} anos e {2} de altura'\n",
    "\n",
    "\n",
    "print(formato.format(nome, idade, altura))\n"
   ]
  },
  {
   "cell_type": "markdown",
   "metadata": {},
   "source": [
    "2. Solicitando ao usuário um número, e duplicando o resultado."
   ]
  },
  {
   "cell_type": "code",
   "execution_count": 40,
   "metadata": {},
   "outputs": [
    {
     "name": "stdout",
     "output_type": "stream",
     "text": [
      "Nenhum número foi digitado!\n"
     ]
    }
   ],
   "source": [
    "value = input('Digite um número: ').strip()\n",
    "\n",
    "if value.isdigit():\n",
    "    value = float(value)\n",
    "    value = f'O dobro de {value} é {value * 2}'\n",
    "else:\n",
    "    value = 'Nenhum número foi digitado!'\n",
    "\n",
    "print(value)"
   ]
  },
  {
   "cell_type": "markdown",
   "metadata": {},
   "source": [
    "2. Fazendo com o try e except"
   ]
  },
  {
   "cell_type": "code",
   "execution_count": 43,
   "metadata": {},
   "outputs": [
    {
     "name": "stdout",
     "output_type": "stream",
     "text": [
      "O dobro de 3443.0 é 6886.0\n"
     ]
    }
   ],
   "source": [
    "value = input('Digite um número: ').strip()\n",
    "\n",
    "try:\n",
    "    value = float(value)\n",
    "    value = f'O dobro de {value} é {value * 2}'\n",
    "except:\n",
    "    value = 'Nenhum número foi digitado!'\n",
    "\n",
    "print(value)"
   ]
  },
  {
   "cell_type": "markdown",
   "metadata": {},
   "source": [
    "3. Ativide com while"
   ]
  },
  {
   "cell_type": "code",
   "execution_count": 12,
   "metadata": {},
   "outputs": [
    {
     "name": "stdout",
     "output_type": "stream",
     "text": [
      "F\n",
      "a\n",
      "l\n",
      "c\n",
      "ã\n",
      "o\n"
     ]
    }
   ],
   "source": [
    "name = 'Falcão'\n",
    "\n",
    "i = 0\n",
    "\n",
    "\n",
    "\n",
    "while i < len(name):\n",
    "    \n",
    "    print(name[i])\n",
    "    \n",
    "    i += 1\n",
    "\n",
    "\n",
    "\n"
   ]
  }
 ],
 "metadata": {
  "kernelspec": {
   "display_name": "base",
   "language": "python",
   "name": "python3"
  },
  "language_info": {
   "codemirror_mode": {
    "name": "ipython",
    "version": 3
   },
   "file_extension": ".py",
   "mimetype": "text/x-python",
   "name": "python",
   "nbconvert_exporter": "python",
   "pygments_lexer": "ipython3",
   "version": "3.11.7"
  }
 },
 "nbformat": 4,
 "nbformat_minor": 2
}
