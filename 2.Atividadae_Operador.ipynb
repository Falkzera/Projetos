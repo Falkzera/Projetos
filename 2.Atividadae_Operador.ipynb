{
 "cells": [
  {
   "cell_type": "markdown",
   "metadata": {},
   "source": [
    "Atividade utilizando operadores e lógica\n",
    "\n",
    "Definindo duas variaveis que terá seus valores escolhidos pelo usuário"
   ]
  },
  {
   "cell_type": "code",
   "execution_count": 21,
   "metadata": {},
   "outputs": [],
   "source": [
    "primeiro_valor = input('Digite um número: ')\n",
    "segundo_valor = input('Digite um número: ')"
   ]
  },
  {
   "cell_type": "markdown",
   "metadata": {},
   "source": [
    "Adicionando as condições"
   ]
  },
  {
   "cell_type": "code",
   "execution_count": 22,
   "metadata": {},
   "outputs": [],
   "source": [
    "if primeiro_valor > segundo_valor:\n",
    "    resultado = f'{float(primeiro_valor)} é maior que o {float(segundo_valor)}'\n",
    "elif segundo_valor > primeiro_valor:\n",
    "    resultado = f'{float(segundo_valor)} é maior que o {float(primeiro_valor)}'\n",
    "else:\n",
    "    resultado = 'Os valores sao iguais'"
   ]
  },
  {
   "cell_type": "markdown",
   "metadata": {},
   "source": [
    "Adicionando a resposta para o usuário"
   ]
  },
  {
   "cell_type": "code",
   "execution_count": 24,
   "metadata": {},
   "outputs": [
    {
     "name": "stdout",
     "output_type": "stream",
     "text": [
      "O primeiro valor foi 90 e o segundo valor foi 9\n",
      "90.0 é maior que o 9.0\n"
     ]
    }
   ],
   "source": [
    "print(f'O primeiro valor foi {primeiro_valor} e o segundo valor foi {segundo_valor}')\n",
    "print(resultado)"
   ]
  }
 ],
 "metadata": {
  "kernelspec": {
   "display_name": "base",
   "language": "python",
   "name": "python3"
  },
  "language_info": {
   "codemirror_mode": {
    "name": "ipython",
    "version": 3
   },
   "file_extension": ".py",
   "mimetype": "text/x-python",
   "name": "python",
   "nbconvert_exporter": "python",
   "pygments_lexer": "ipython3",
   "version": "3.11.7"
  }
 },
 "nbformat": 4,
 "nbformat_minor": 2
}
