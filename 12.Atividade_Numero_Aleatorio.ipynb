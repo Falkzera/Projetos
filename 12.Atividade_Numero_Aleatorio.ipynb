{
 "cells": [
  {
   "cell_type": "markdown",
   "metadata": {},
   "source": [
    "# Atividade do número aletório"
   ]
  },
  {
   "cell_type": "markdown",
   "metadata": {},
   "source": [
    "### Primeira maneira"
   ]
  },
  {
   "cell_type": "code",
   "execution_count": 5,
   "metadata": {},
   "outputs": [
    {
     "name": "stdout",
     "output_type": "stream",
     "text": [
      "O valor chutado: 3 está acima do número aleatorio.\n",
      "O valor chutado: 4 está acima do número aleatorio.\n",
      "O valor chutado: 5 está acima do número aleatorio.\n",
      "O valor chutado: 6 está acima do número aleatorio.\n",
      "O valor chutado: 7 está acima do número aleatorio.\n",
      "O valor chutado: 8 está acima do número aleatorio.\n",
      "O valor chutado: 9 está acima do número aleatorio.\n",
      "O valor chutado: 2 está acima do número aleatorio.\n",
      "O valor chutado: 2 está acima do número aleatorio.\n",
      "Você acertou o número aleatório era: 1\n"
     ]
    }
   ],
   "source": [
    "import random\n",
    "\n",
    "aleatorio = random.randint(1, 10)\n",
    "erros = 0\n",
    "\n",
    "while True:\n",
    "    try:\n",
    "        chute = int(input('Chute um número entre 1 e 10: ').strip())\n",
    "    except:\n",
    "        print('Digite apenas números inteiros.')\n",
    "        continue\n",
    "\n",
    "    if chute == aleatorio:\n",
    "        print(f'Você acertou o número aleatório era: {aleatorio}')\n",
    "        break\n",
    "    elif chute < aleatorio:\n",
    "        print(f'O valor chutado: {chute} está abaixo do número aleatorio.')\n",
    "        erros += 1\n",
    "    else:\n",
    "        print(f'O valor chutado: {chute} está acima do número aleatorio.')\n",
    "        erros += 1\n",
    "\n",
    "print(f'Você errou {erros} vezes.')"
   ]
  },
  {
   "cell_type": "markdown",
   "metadata": {},
   "source": [
    "### Segunda maneira"
   ]
  },
  {
   "cell_type": "code",
   "execution_count": null,
   "metadata": {},
   "outputs": [],
   "source": [
    "import random\n",
    "\n",
    "aleatorio = random.randint(1, 10)\n",
    "erros = 0\n",
    "\n",
    "while True:\n",
    "    try:\n",
    "        chute = int(input('Chute um número entre: 1 e 10: ').strip())\n",
    "    except:\n",
    "        print('Digite apenas números inteiros.')\n",
    "        continue\n",
    "    if chute == aleatorio:\n",
    "        print(f'Você acertou! O número aleatório era: {aleatorio}.')\n",
    "        break\n",
    "    elif chute < aleatorio or chute > aleatorio:\n",
    "        erros += 1\n",
    "        if chute < aleatorio:\n",
    "            print(f'O valor chutado: {chute} está abaixo do número aleatorio.')\n",
    "        elif chute > aleatorio:\n",
    "            print(f'O valor chutado: {chute} está acima do número aleatorio.')\n",
    "        \n",
    "print(f'Você errou {erros} vezes.')"
   ]
  }
 ],
 "metadata": {
  "kernelspec": {
   "display_name": "base",
   "language": "python",
   "name": "python3"
  },
  "language_info": {
   "codemirror_mode": {
    "name": "ipython",
    "version": 3
   },
   "file_extension": ".py",
   "mimetype": "text/x-python",
   "name": "python",
   "nbconvert_exporter": "python",
   "pygments_lexer": "ipython3",
   "version": "3.11.7"
  }
 },
 "nbformat": 4,
 "nbformat_minor": 2
}
