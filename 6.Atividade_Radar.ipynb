{
 "cells": [
  {
   "cell_type": "markdown",
   "metadata": {},
   "source": [
    "# ATIVIDADE DO RADAR\n",
    "Considerando valores constantes em capslock."
   ]
  },
  {
   "cell_type": "code",
   "execution_count": 4,
   "metadata": {},
   "outputs": [
    {
     "name": "stdout",
     "output_type": "stream",
     "text": [
      "O carro está na mira do Radar\n",
      "O carro ultrapassou o limite de velocidade\n",
      "pois a velocidade permitida é de 60 KM/H e ele passou em uma velocidade de 90 KM/H\n",
      "Infringindo o limite em 30 KM/H!\n"
     ]
    }
   ],
   "source": [
    "velocidade = 90 # Velocidade do carro\n",
    "local_carro = 96 # Posição do carro\n",
    "\n",
    "RADAR_1 = 60 # Limite de velocidade\n",
    "LOCAL_1 = 100 # Posição do radar\n",
    "RADAR_RANGE = 10 # Range do radar (-1 e +1)\n",
    "\n",
    "\n",
    "if local_carro >= (LOCAL_1 - RADAR_RANGE) and local_carro <= (LOCAL_1 + RADAR_RANGE):\n",
    "    print('O carro está na mira do Radar')\n",
    "    if velocidade > RADAR_1:\n",
    "        print(\n",
    "            f'O carro ultrapassou o limite de velocidade\\n'\n",
    "            f'pois a velocidade permitida é de {RADAR_1} KM/H e ele passou em uma velocidade de {velocidade} KM/H\\n'\n",
    "            f'Infringindo o limite em {velocidade - RADAR_1} KM/H!'\n",
    "        )\n",
    "    else:\n",
    "        print(f'O carro não ultrapassou o limite de velocidade')\n",
    "else:\n",
    "    print('O carro não está na mira do Radar')"
   ]
  }
 ],
 "metadata": {
  "kernelspec": {
   "display_name": "base",
   "language": "python",
   "name": "python3"
  },
  "language_info": {
   "codemirror_mode": {
    "name": "ipython",
    "version": 3
   },
   "file_extension": ".py",
   "mimetype": "text/x-python",
   "name": "python",
   "nbconvert_exporter": "python",
   "pygments_lexer": "ipython3",
   "version": "3.11.7"
  }
 },
 "nbformat": 4,
 "nbformat_minor": 2
}
